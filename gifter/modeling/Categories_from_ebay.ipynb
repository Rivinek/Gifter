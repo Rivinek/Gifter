{
 "metadata": {
  "name": ""
 },
 "nbformat": 3,
 "nbformat_minor": 0,
 "worksheets": [
  {
   "cells": [
    {
     "cell_type": "code",
     "collapsed": false,
     "input": [
      "import pandas as pd\n",
      "import re\n",
      "import matplotlib.pyplot as plt\n",
      "%matplotlib inline"
     ],
     "language": "python",
     "metadata": {},
     "outputs": [],
     "prompt_number": 7
    },
    {
     "cell_type": "code",
     "collapsed": false,
     "input": [
      "df= pd.io.json.read_json(\"./data.json\")\n",
      "def word_in_text(word, text):\n",
      "    word = word.lower()\n",
      "    text = text.lower()\n",
      "    match = re.search(word, text)\n",
      "    return bool(match)"
     ],
     "language": "python",
     "metadata": {},
     "outputs": [],
     "prompt_number": 8
    },
    {
     "cell_type": "code",
     "collapsed": false,
     "input": [
      "multicategories = { \"motor\": ['motor', 'car', 'truck'],\n",
      " \"fashion\": ['fashion', 'watch', 'jawelry'], \n",
      " \"electronic\" : ['electronic', 'camera', 'photo'],\n",
      " \"art\" : ['art', 'collectible'],\n",
      " \"sport\" : ['sport', 'fitness','excercise','run']}"
     ],
     "language": "python",
     "metadata": {},
     "outputs": [],
     "prompt_number": 9
    },
    {
     "cell_type": "code",
     "collapsed": false,
     "input": [
      "for category in multicategories.values():\n",
      "        df[category[0]] = df['text'].apply(lambda tweet: any(word_in_text(word, tweet) for word in category))"
     ],
     "language": "python",
     "metadata": {},
     "outputs": [],
     "prompt_number": 10
    },
    {
     "cell_type": "code",
     "collapsed": false,
     "input": [
      "counts = pd.melt(df[multicategories.keys()]).groupby('variable').sum()\n",
      "counts.sort('value', inplace=True)\n",
      "counts.plot(kind='bar')"
     ],
     "language": "python",
     "metadata": {},
     "outputs": [
      {
       "metadata": {},
       "output_type": "pyout",
       "prompt_number": 11,
       "text": [
        "<matplotlib.axes.AxesSubplot at 0x7f0aa9615490>"
       ]
      },
      {
       "metadata": {},
       "output_type": "display_data",
       "png": "[encoded data removed]",
       "text": [
        "<matplotlib.figure.Figure at 0x7f0ab66bdf10>"
       ]
      }
     ],
     "prompt_number": 11
    }
   ],
   "metadata": {}
  }
 ]
}