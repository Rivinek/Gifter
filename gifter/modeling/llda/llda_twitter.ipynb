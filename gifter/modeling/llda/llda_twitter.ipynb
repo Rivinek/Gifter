{
 "cells": [
  {
   "cell_type": "code",
   "execution_count": 2,
   "metadata": {
    "collapsed": true
   },
   "outputs": [],
   "source": [
    "from gifter.modeling.data import lemmatized_frame\n",
    "\n",
    "\n",
    "def count_words(lemmatized_words):\n",
    "    return {word: lemmatized_words.count(word) for word in lemmatized_words}"
   ]
  },
  {
   "cell_type": "code",
   "execution_count": 3,
   "metadata": {
    "collapsed": false
   },
   "outputs": [
    {
     "name": "stderr",
     "output_type": "stream",
     "text": [
      "/home/rivinek/.virtualenvs/gifter/Gifter/gifter/modeling/tokenizer.py:56: RuntimeWarning: Argument <type 'str'> is not an unicode object. Passing an encoded string will likely have unexpected results.\n",
      "  pattern = re.compile(\"(#|RT |{})\".format(unidecode(to_remove)), re.I)\n"
     ]
    }
   ],
   "source": [
    "\"\"\"Michael Phelbs tweets\"\"\"\n",
    "tweets = lemmatized_frame('../data/data.json')\n",
    "lemmatized = tweets['lemmas']"
   ]
  },
  {
   "cell_type": "code",
   "execution_count": 10,
   "metadata": {
    "collapsed": false
   },
   "outputs": [
    {
     "data": {
      "text/plain": [
       "{'continue/VB': 1, 'fight/VB': 2, 'freedom/NN': 1, 'thank/NN': 1}"
      ]
     },
     "execution_count": 10,
     "metadata": {},
     "output_type": "execute_result"
    }
   ],
   "source": [
    "count_words(lemmatized.iloc[0])"
   ]
  },
  {
   "cell_type": "code",
   "execution_count": null,
   "metadata": {
    "collapsed": true
   },
   "outputs": [],
   "source": []
  }
 ],
 "metadata": {
  "kernelspec": {
   "display_name": "Python 2",
   "language": "python",
   "name": "python2"
  },
  "language_info": {
   "codemirror_mode": {
    "name": "ipython",
    "version": 2
   },
   "file_extension": ".py",
   "mimetype": "text/x-python",
   "name": "python",
   "nbconvert_exporter": "python",
   "pygments_lexer": "ipython2",
   "version": "2.7.9"
  }
 },
 "nbformat": 4,
 "nbformat_minor": 0
}
