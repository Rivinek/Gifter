{
 "metadata": {
  "name": ""
 },
 "nbformat": 3,
 "nbformat_minor": 0,
 "worksheets": [
  {
   "cells": [
    {
     "cell_type": "code",
     "collapsed": false,
     "input": [
      "import json\n",
      "import pandas as pd\n",
      "import numpy as np\n",
      "import re\n",
      "import matplotlib.pyplot as plt"
     ],
     "language": "python",
     "metadata": {},
     "outputs": [],
     "prompt_number": 1
    },
    {
     "cell_type": "code",
     "collapsed": false,
     "input": [
      "df= pd.io.json.read_json(\"./data.json\")\n",
      "def word_in_text(word, text):\n",
      "    word = word.lower()\n",
      "    text = text.lower()\n",
      "    match = re.search(word, text)\n",
      "    if match:\n",
      "        return True\n",
      "    return False"
     ],
     "language": "python",
     "metadata": {},
     "outputs": [],
     "prompt_number": 2
    },
    {
     "cell_type": "code",
     "collapsed": false,
     "input": [
      "df['motor'] = df['text'].apply(lambda tweet: word_in_text('motor', tweet) or word_in_text('car', tweet) or word_in_text('truck', tweet)).dropna()\n",
      "df['fashion'] = df['text'].apply(lambda tweet: word_in_text('fashion', tweet) or word_in_text('watch', tweet) or word_in_text('jawelry', tweet)).dropna()\n",
      "df['electronic'] = df['text'].apply(lambda tweet: word_in_text('electronic', tweet) or word_in_text('camera', tweet) or word_in_text('photo', tweet) ).dropna()\n",
      "df['art'] = df['text'].apply(lambda tweet: word_in_text('art', tweet) or word_in_text('collectible', tweet)).dropna()\n",
      "df['sport'] = df['text'].apply(lambda tweet: word_in_text('sport', tweet) or word_in_text('fitness', tweet) or word_in_text('excercise', tweet) or word_in_text('run', tweet)).dropna()"
     ],
     "language": "python",
     "metadata": {},
     "outputs": [],
     "prompt_number": 3
    },
    {
     "cell_type": "code",
     "collapsed": false,
     "input": [
      "def get_categories():\n",
      "    category = {}\n",
      "    for category_name in ['motor','fashion','electronic','art','sport']:\n",
      "        count = df[category_name].value_counts().get(True, 0)\n",
      "        if (count):\n",
      "            category[category_name]=count\n",
      "    return category"
     ],
     "language": "python",
     "metadata": {},
     "outputs": [
      {
       "metadata": {},
       "output_type": "pyout",
       "prompt_number": 4,
       "text": [
        "{'art': 206, 'electronic': 3, 'fashion': 234, 'motor': 473, 'sport': 27}"
       ]
      }
     ],
     "prompt_number": 4
    },
    {
     "cell_type": "code",
     "collapsed": false,
     "input": [
      "prg_langs  = sorted(get_categories().keys())\n",
      "tweets_by_prg_lang = sorted(get_categories().values())\n",
      "\n",
      "x_pos = list(range(len(prg_langs)))\n",
      "width = 0.8\n",
      "fig, ax = plt.subplots()\n",
      "plt.bar(x_pos, tweets_by_prg_lang, width, alpha=1, color='g')\n",
      "\n",
      "# Setting axis labels and ticks\n",
      "ax.set_ylabel('Number of mentions of category', fontsize=15)\n",
      "ax.set_title('Ranking: categories from ebay', fontsize=10, fontweight='bold')\n",
      "ax.set_xticks([p + 0.4 * width for p in x_pos])\n",
      "ax.set_xticklabels(prg_langs)\n",
      "plt.grid()"
     ],
     "language": "python",
     "metadata": {},
     "outputs": [],
     "prompt_number": 5
    },
    {
     "cell_type": "code",
     "collapsed": false,
     "input": [
      "plt.show()"
     ],
     "language": "python",
     "metadata": {},
     "outputs": [],
     "prompt_number": 6
    }
   ],
   "metadata": {}
  }
 ]
}