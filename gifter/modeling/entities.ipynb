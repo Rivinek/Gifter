{
 "cells": [
  {
   "cell_type": "markdown",
   "metadata": {},
   "source": [
    "# loading data"
   ]
  },
  {
   "cell_type": "code",
   "execution_count": 1,
   "metadata": {
    "collapsed": false
   },
   "outputs": [
    {
     "data": {
      "text/plain": [
       "(2606, 25)"
      ]
     },
     "execution_count": 1,
     "metadata": {},
     "output_type": "execute_result"
    }
   ],
   "source": [
    "import pandas as pd\n",
    "df = pd.io.json.read_json(\"./data.json\")\n",
    "df.shape"
   ]
  },
  {
   "cell_type": "code",
   "execution_count": 2,
   "metadata": {
    "collapsed": false
   },
   "outputs": [
    {
     "data": {
      "text/html": [
       "<div style=\"max-height:1000px;max-width:1500px;overflow:auto;\">\n",
       "<table border=\"1\" class=\"dataframe\">\n",
       "  <thead>\n",
       "    <tr style=\"text-align: right;\">\n",
       "      <th></th>\n",
       "      <th>contributors</th>\n",
       "      <th>coordinates</th>\n",
       "      <th>created_at</th>\n",
       "      <th>entities</th>\n",
       "      <th>extended_entities</th>\n",
       "      <th>favorite_count</th>\n",
       "      <th>favorited</th>\n",
       "      <th>geo</th>\n",
       "      <th>id</th>\n",
       "      <th>id_str</th>\n",
       "      <th>...</th>\n",
       "      <th>lang</th>\n",
       "      <th>place</th>\n",
       "      <th>possibly_sensitive</th>\n",
       "      <th>retweet_count</th>\n",
       "      <th>retweeted</th>\n",
       "      <th>retweeted_status</th>\n",
       "      <th>source</th>\n",
       "      <th>text</th>\n",
       "      <th>truncated</th>\n",
       "      <th>user</th>\n",
       "    </tr>\n",
       "  </thead>\n",
       "  <tbody>\n",
       "    <tr>\n",
       "      <th>995</th>\n",
       "      <td>NaN</td>\n",
       "      <td>NaN</td>\n",
       "      <td>2014-05-28 20:06:10</td>\n",
       "      <td>{u'symbols': [], u'user_mentions': [{u'indices...</td>\n",
       "      <td>{u'media': [{u'source_user_id': 538031518, u's...</td>\n",
       "      <td>0</td>\n",
       "      <td>False</td>\n",
       "      <td>NaN</td>\n",
       "      <td>471744258375159808</td>\n",
       "      <td>471744258375159808</td>\n",
       "      <td>...</td>\n",
       "      <td>en</td>\n",
       "      <td>NaN</td>\n",
       "      <td>0</td>\n",
       "      <td>1106</td>\n",
       "      <td>False</td>\n",
       "      <td>{u'contributors': None, u'truncated': False, u...</td>\n",
       "      <td>&lt;a href=\"https://github.com/veskuh/Tweetian\" r...</td>\n",
       "      <td>RT @BBCSporf: POWERFUL: Anti-FIFA graffiti is ...</td>\n",
       "      <td>False</td>\n",
       "      <td>{u'follow_request_sent': False, u'profile_use_...</td>\n",
       "    </tr>\n",
       "    <tr>\n",
       "      <th>996</th>\n",
       "      <td>NaN</td>\n",
       "      <td>NaN</td>\n",
       "      <td>2014-05-28 17:28:56</td>\n",
       "      <td>{u'symbols': [], u'user_mentions': [{u'indices...</td>\n",
       "      <td>None</td>\n",
       "      <td>0</td>\n",
       "      <td>False</td>\n",
       "      <td>NaN</td>\n",
       "      <td>471704689076350976</td>\n",
       "      <td>471704689076350976</td>\n",
       "      <td>...</td>\n",
       "      <td>en</td>\n",
       "      <td>NaN</td>\n",
       "      <td>NaN</td>\n",
       "      <td>0</td>\n",
       "      <td>False</td>\n",
       "      <td>None</td>\n",
       "      <td>&lt;a href=\"http://twitter.com\" rel=\"nofollow\"&gt;Tw...</td>\n",
       "      <td>@khertan me too, I advise @vascorsd to do the ...</td>\n",
       "      <td>False</td>\n",
       "      <td>{u'follow_request_sent': False, u'profile_use_...</td>\n",
       "    </tr>\n",
       "    <tr>\n",
       "      <th>997</th>\n",
       "      <td>NaN</td>\n",
       "      <td>NaN</td>\n",
       "      <td>2014-05-28 17:13:58</td>\n",
       "      <td>{u'symbols': [], u'user_mentions': [{u'indices...</td>\n",
       "      <td>None</td>\n",
       "      <td>1</td>\n",
       "      <td>False</td>\n",
       "      <td>NaN</td>\n",
       "      <td>471700921832206336</td>\n",
       "      <td>471700921832206336</td>\n",
       "      <td>...</td>\n",
       "      <td>en</td>\n",
       "      <td>NaN</td>\n",
       "      <td>0</td>\n",
       "      <td>0</td>\n",
       "      <td>False</td>\n",
       "      <td>None</td>\n",
       "      <td>&lt;a href=\"http://twitter.com\" rel=\"nofollow\"&gt;Tw...</td>\n",
       "      <td>By the way @khertan others also seem frustrate...</td>\n",
       "      <td>False</td>\n",
       "      <td>{u'follow_request_sent': False, u'profile_use_...</td>\n",
       "    </tr>\n",
       "    <tr>\n",
       "      <th>998</th>\n",
       "      <td>NaN</td>\n",
       "      <td>NaN</td>\n",
       "      <td>2014-05-28 17:10:53</td>\n",
       "      <td>{u'symbols': [], u'user_mentions': [{u'indices...</td>\n",
       "      <td>None</td>\n",
       "      <td>0</td>\n",
       "      <td>False</td>\n",
       "      <td>NaN</td>\n",
       "      <td>471700148519976960</td>\n",
       "      <td>471700148519976960</td>\n",
       "      <td>...</td>\n",
       "      <td>en</td>\n",
       "      <td>NaN</td>\n",
       "      <td>NaN</td>\n",
       "      <td>0</td>\n",
       "      <td>False</td>\n",
       "      <td>None</td>\n",
       "      <td>&lt;a href=\"http://twitter.com\" rel=\"nofollow\"&gt;Tw...</td>\n",
       "      <td>@khertan btw. do you see? The whole discrimina...</td>\n",
       "      <td>False</td>\n",
       "      <td>{u'follow_request_sent': False, u'profile_use_...</td>\n",
       "    </tr>\n",
       "    <tr>\n",
       "      <th>999</th>\n",
       "      <td>NaN</td>\n",
       "      <td>NaN</td>\n",
       "      <td>2014-05-28 17:07:43</td>\n",
       "      <td>{u'symbols': [], u'user_mentions': [{u'indices...</td>\n",
       "      <td>None</td>\n",
       "      <td>0</td>\n",
       "      <td>False</td>\n",
       "      <td>NaN</td>\n",
       "      <td>471699352256532481</td>\n",
       "      <td>471699352256532480</td>\n",
       "      <td>...</td>\n",
       "      <td>en</td>\n",
       "      <td>NaN</td>\n",
       "      <td>NaN</td>\n",
       "      <td>0</td>\n",
       "      <td>False</td>\n",
       "      <td>None</td>\n",
       "      <td>&lt;a href=\"http://twitter.com\" rel=\"nofollow\"&gt;Tw...</td>\n",
       "      <td>@khertan well today or tomorrow I will publish...</td>\n",
       "      <td>False</td>\n",
       "      <td>{u'follow_request_sent': False, u'profile_use_...</td>\n",
       "    </tr>\n",
       "  </tbody>\n",
       "</table>\n",
       "<p>5 rows × 25 columns</p>\n",
       "</div>"
      ],
      "text/plain": [
       "     contributors  coordinates          created_at  \\\n",
       "995           NaN          NaN 2014-05-28 20:06:10   \n",
       "996           NaN          NaN 2014-05-28 17:28:56   \n",
       "997           NaN          NaN 2014-05-28 17:13:58   \n",
       "998           NaN          NaN 2014-05-28 17:10:53   \n",
       "999           NaN          NaN 2014-05-28 17:07:43   \n",
       "\n",
       "                                              entities  \\\n",
       "995  {u'symbols': [], u'user_mentions': [{u'indices...   \n",
       "996  {u'symbols': [], u'user_mentions': [{u'indices...   \n",
       "997  {u'symbols': [], u'user_mentions': [{u'indices...   \n",
       "998  {u'symbols': [], u'user_mentions': [{u'indices...   \n",
       "999  {u'symbols': [], u'user_mentions': [{u'indices...   \n",
       "\n",
       "                                     extended_entities  favorite_count  \\\n",
       "995  {u'media': [{u'source_user_id': 538031518, u's...               0   \n",
       "996                                               None               0   \n",
       "997                                               None               1   \n",
       "998                                               None               0   \n",
       "999                                               None               0   \n",
       "\n",
       "    favorited  geo                  id              id_str  \\\n",
       "995     False  NaN  471744258375159808  471744258375159808   \n",
       "996     False  NaN  471704689076350976  471704689076350976   \n",
       "997     False  NaN  471700921832206336  471700921832206336   \n",
       "998     False  NaN  471700148519976960  471700148519976960   \n",
       "999     False  NaN  471699352256532481  471699352256532480   \n",
       "\n",
       "                           ...                         lang  place  \\\n",
       "995                        ...                           en    NaN   \n",
       "996                        ...                           en    NaN   \n",
       "997                        ...                           en    NaN   \n",
       "998                        ...                           en    NaN   \n",
       "999                        ...                           en    NaN   \n",
       "\n",
       "     possibly_sensitive  retweet_count  retweeted  \\\n",
       "995                   0           1106      False   \n",
       "996                 NaN              0      False   \n",
       "997                   0              0      False   \n",
       "998                 NaN              0      False   \n",
       "999                 NaN              0      False   \n",
       "\n",
       "                                      retweeted_status  \\\n",
       "995  {u'contributors': None, u'truncated': False, u...   \n",
       "996                                               None   \n",
       "997                                               None   \n",
       "998                                               None   \n",
       "999                                               None   \n",
       "\n",
       "                                                source  \\\n",
       "995  <a href=\"https://github.com/veskuh/Tweetian\" r...   \n",
       "996  <a href=\"http://twitter.com\" rel=\"nofollow\">Tw...   \n",
       "997  <a href=\"http://twitter.com\" rel=\"nofollow\">Tw...   \n",
       "998  <a href=\"http://twitter.com\" rel=\"nofollow\">Tw...   \n",
       "999  <a href=\"http://twitter.com\" rel=\"nofollow\">Tw...   \n",
       "\n",
       "                                                  text  truncated  \\\n",
       "995  RT @BBCSporf: POWERFUL: Anti-FIFA graffiti is ...      False   \n",
       "996  @khertan me too, I advise @vascorsd to do the ...      False   \n",
       "997  By the way @khertan others also seem frustrate...      False   \n",
       "998  @khertan btw. do you see? The whole discrimina...      False   \n",
       "999  @khertan well today or tomorrow I will publish...      False   \n",
       "\n",
       "                                                  user  \n",
       "995  {u'follow_request_sent': False, u'profile_use_...  \n",
       "996  {u'follow_request_sent': False, u'profile_use_...  \n",
       "997  {u'follow_request_sent': False, u'profile_use_...  \n",
       "998  {u'follow_request_sent': False, u'profile_use_...  \n",
       "999  {u'follow_request_sent': False, u'profile_use_...  \n",
       "\n",
       "[5 rows x 25 columns]"
      ]
     },
     "execution_count": 2,
     "metadata": {},
     "output_type": "execute_result"
    }
   ],
   "source": [
    "df.tail(5)"
   ]
  },
  {
   "cell_type": "code",
   "execution_count": 3,
   "metadata": {
    "collapsed": false
   },
   "outputs": [],
   "source": [
    "from unidecode import unidecode\n",
    "def get_tags(obj, key, name):\n",
    "    hashtags = [unidecode(hashtag.get(key, u'').lower()) for hashtag in obj[name]]\n",
    "    if hashtags:\n",
    "        return pd.DataFrame(hashtags)\n",
    "\n",
    "hashtags_dfs = df.entities.apply(lambda obj: get_tags(obj, 'text', 'hashtags')).dropna()\n",
    "mentions_dfs = df.entities.apply(lambda obj: get_tags(obj, 'screen_name', 'user_mentions')).dropna()"
   ]
  },
  {
   "cell_type": "code",
   "execution_count": 4,
   "metadata": {
    "collapsed": false
   },
   "outputs": [],
   "source": [
    "hashtags = pd.concat([val for val in hashtags_dfs.values])\n",
    "mentions = pd.concat([val for val in mentions_dfs.values])"
   ]
  },
  {
   "cell_type": "code",
   "execution_count": 5,
   "metadata": {
    "collapsed": false
   },
   "outputs": [
    {
     "data": {
      "text/plain": [
       "0\n",
       "jolla           105\n",
       "sailfishos       55\n",
       "smartdevcon      31\n",
       "pyconpl          28\n",
       "sailfish         23\n",
       "python           19\n",
       "jollaloveday     18\n",
       "tizen            16\n",
       "mobile           15\n",
       "android          15\n",
       "dtype: int64"
      ]
     },
     "execution_count": 5,
     "metadata": {},
     "output_type": "execute_result"
    }
   ],
   "source": [
    "hashtags_counts = hashtags.groupby(0).size()\n",
    "hashtags_counts.sort(ascending=False)\n",
    "hashtags_counts.head(10)"
   ]
  },
  {
   "cell_type": "code",
   "execution_count": 6,
   "metadata": {
    "collapsed": false
   },
   "outputs": [
    {
     "data": {
      "text/plain": [
       "0\n",
       "jollahq            275\n",
       "zogg               201\n",
       "stskeeps           145\n",
       "zzste               90\n",
       "sfietkonstantin     83\n",
       "fk_lx               81\n",
       "achipa              78\n",
       "faenil              77\n",
       "jollapl             75\n",
       "venemo              71\n",
       "dtype: int64"
      ]
     },
     "execution_count": 6,
     "metadata": {},
     "output_type": "execute_result"
    }
   ],
   "source": [
    "mentions_counts = mentions.groupby(0).size()\n",
    "mentions_counts.sort(ascending=False)\n",
    "mentions_counts.head(10)"
   ]
  }
 ],
 "metadata": {
  "kernelspec": {
   "display_name": "Python 2",
   "language": "python",
   "name": "python2"
  },
  "language_info": {
   "codemirror_mode": {
    "name": "ipython",
    "version": 2
   },
   "file_extension": ".py",
   "mimetype": "text/x-python",
   "name": "python",
   "nbconvert_exporter": "python",
   "pygments_lexer": "ipython2",
   "version": "2.7.9"
  }
 },
 "nbformat": 4,
 "nbformat_minor": 0
}
