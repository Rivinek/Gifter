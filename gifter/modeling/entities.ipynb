{
 "cells": [
  {
   "cell_type": "markdown",
   "metadata": {},
   "source": [
    "# loading data"
   ]
  },
  {
   "cell_type": "code",
   "execution_count": 1,
   "metadata": {
    "collapsed": false
   },
   "outputs": [
    {
     "data": {
      "text/plain": [
       "(2606, 25)"
      ]
     },
     "execution_count": 1,
     "metadata": {},
     "output_type": "execute_result"
    }
   ],
   "source": [
    "import pandas as pd\n",
    "df = pd.io.json.read_json(\"./data.json\")\n",
    "df.shape"
   ]
  },
  {
   "cell_type": "code",
   "execution_count": 2,
   "metadata": {
    "collapsed": false
   },
   "outputs": [
    {
     "data": {
      "text/html": [
       "<div style=\"max-height:1000px;max-width:1500px;overflow:auto;\">\n",
       "<table border=\"1\" class=\"dataframe\">\n",
       "  <thead>\n",
       "    <tr style=\"text-align: right;\">\n",
       "      <th></th>\n",
       "      <th>contributors</th>\n",
       "      <th>coordinates</th>\n",
       "      <th>created_at</th>\n",
       "      <th>entities</th>\n",
       "      <th>extended_entities</th>\n",
       "      <th>favorite_count</th>\n",
       "      <th>favorited</th>\n",
       "      <th>geo</th>\n",
       "      <th>id</th>\n",
       "      <th>id_str</th>\n",
       "      <th>...</th>\n",
       "      <th>lang</th>\n",
       "      <th>place</th>\n",
       "      <th>possibly_sensitive</th>\n",
       "      <th>retweet_count</th>\n",
       "      <th>retweeted</th>\n",
       "      <th>retweeted_status</th>\n",
       "      <th>source</th>\n",
       "      <th>text</th>\n",
       "      <th>truncated</th>\n",
       "      <th>user</th>\n",
       "    </tr>\n",
       "  </thead>\n",
       "  <tbody>\n",
       "    <tr>\n",
       "      <th>0</th>\n",
       "      <td>NaN</td>\n",
       "      <td>NaN</td>\n",
       "      <td>2015-03-29 20:22:50</td>\n",
       "      <td>{u'symbols': [], u'user_mentions': [{u'indices...</td>\n",
       "      <td>None</td>\n",
       "      <td>0</td>\n",
       "      <td>False</td>\n",
       "      <td>NaN</td>\n",
       "      <td>582276753143529472</td>\n",
       "      <td>582276753143529472</td>\n",
       "      <td>...</td>\n",
       "      <td>en</td>\n",
       "      <td>NaN</td>\n",
       "      <td>0</td>\n",
       "      <td>3</td>\n",
       "      <td>False</td>\n",
       "      <td>{u'contributors': None, u'truncated': False, u...</td>\n",
       "      <td>&lt;a href=\"http://twitter.com/download/android\" ...</td>\n",
       "      <td>RT @webmink: As if to demonstrate the darkness...</td>\n",
       "      <td>False</td>\n",
       "      <td>{u'follow_request_sent': False, u'profile_use_...</td>\n",
       "    </tr>\n",
       "    <tr>\n",
       "      <th>1</th>\n",
       "      <td>NaN</td>\n",
       "      <td>NaN</td>\n",
       "      <td>2015-03-28 10:22:38</td>\n",
       "      <td>{u'symbols': [], u'user_mentions': [{u'indices...</td>\n",
       "      <td>{u'media': [{u'source_user_id': 65375759, u'so...</td>\n",
       "      <td>0</td>\n",
       "      <td>False</td>\n",
       "      <td>NaN</td>\n",
       "      <td>581763317997408256</td>\n",
       "      <td>581763317997408256</td>\n",
       "      <td>...</td>\n",
       "      <td>en</td>\n",
       "      <td>NaN</td>\n",
       "      <td>0</td>\n",
       "      <td>1184</td>\n",
       "      <td>False</td>\n",
       "      <td>{u'contributors': None, u'truncated': False, u...</td>\n",
       "      <td>&lt;a href=\"http://twitter.com/download/android\" ...</td>\n",
       "      <td>RT @zeynep: \"Nothing prepared me for this.\" GO...</td>\n",
       "      <td>False</td>\n",
       "      <td>{u'follow_request_sent': False, u'profile_use_...</td>\n",
       "    </tr>\n",
       "    <tr>\n",
       "      <th>10</th>\n",
       "      <td>NaN</td>\n",
       "      <td>NaN</td>\n",
       "      <td>2015-03-21 00:02:19</td>\n",
       "      <td>{u'symbols': [], u'user_mentions': [{u'indices...</td>\n",
       "      <td>{u'media': [{u'source_user_id': 1458110563, u'...</td>\n",
       "      <td>0</td>\n",
       "      <td>False</td>\n",
       "      <td>NaN</td>\n",
       "      <td>579070493929541633</td>\n",
       "      <td>579070493929541632</td>\n",
       "      <td>...</td>\n",
       "      <td>en</td>\n",
       "      <td>NaN</td>\n",
       "      <td>0</td>\n",
       "      <td>3</td>\n",
       "      <td>False</td>\n",
       "      <td>{u'contributors': None, u'truncated': False, u...</td>\n",
       "      <td>&lt;a href=\"http://twitter.com/download/android\" ...</td>\n",
       "      <td>RT @pawelrychlik: Big thanks to @hs_silesia fo...</td>\n",
       "      <td>False</td>\n",
       "      <td>{u'follow_request_sent': False, u'profile_use_...</td>\n",
       "    </tr>\n",
       "    <tr>\n",
       "      <th>100</th>\n",
       "      <td>NaN</td>\n",
       "      <td>NaN</td>\n",
       "      <td>2015-01-11 09:43:25</td>\n",
       "      <td>{u'symbols': [], u'user_mentions': [{u'indices...</td>\n",
       "      <td>{u'media': [{u'source_user_id': 6152112, u'sou...</td>\n",
       "      <td>0</td>\n",
       "      <td>False</td>\n",
       "      <td>NaN</td>\n",
       "      <td>554211973467226112</td>\n",
       "      <td>554211973467226112</td>\n",
       "      <td>...</td>\n",
       "      <td>und</td>\n",
       "      <td>NaN</td>\n",
       "      <td>0</td>\n",
       "      <td>35</td>\n",
       "      <td>False</td>\n",
       "      <td>{u'contributors': None, u'truncated': False, u...</td>\n",
       "      <td>&lt;a href=\"http://twitter.com/download/android\" ...</td>\n",
       "      <td>RT @agiletortoise: Wow. http://t.co/Ft8DnXJPG2</td>\n",
       "      <td>False</td>\n",
       "      <td>{u'follow_request_sent': False, u'profile_use_...</td>\n",
       "    </tr>\n",
       "    <tr>\n",
       "      <th>1000</th>\n",
       "      <td>NaN</td>\n",
       "      <td>NaN</td>\n",
       "      <td>2014-05-28 16:56:45</td>\n",
       "      <td>{u'symbols': [], u'user_mentions': [{u'indices...</td>\n",
       "      <td>None</td>\n",
       "      <td>0</td>\n",
       "      <td>False</td>\n",
       "      <td>NaN</td>\n",
       "      <td>471696592123494400</td>\n",
       "      <td>471696592123494400</td>\n",
       "      <td>...</td>\n",
       "      <td>en</td>\n",
       "      <td>NaN</td>\n",
       "      <td>NaN</td>\n",
       "      <td>0</td>\n",
       "      <td>False</td>\n",
       "      <td>None</td>\n",
       "      <td>&lt;a href=\"http://twitter.com\" rel=\"nofollow\"&gt;Tw...</td>\n",
       "      <td>@khertan you are not a heretic, you are tellin...</td>\n",
       "      <td>False</td>\n",
       "      <td>{u'follow_request_sent': False, u'profile_use_...</td>\n",
       "    </tr>\n",
       "  </tbody>\n",
       "</table>\n",
       "<p>5 rows × 25 columns</p>\n",
       "</div>"
      ],
      "text/plain": [
       "      contributors  coordinates          created_at  \\\n",
       "0              NaN          NaN 2015-03-29 20:22:50   \n",
       "1              NaN          NaN 2015-03-28 10:22:38   \n",
       "10             NaN          NaN 2015-03-21 00:02:19   \n",
       "100            NaN          NaN 2015-01-11 09:43:25   \n",
       "1000           NaN          NaN 2014-05-28 16:56:45   \n",
       "\n",
       "                                               entities  \\\n",
       "0     {u'symbols': [], u'user_mentions': [{u'indices...   \n",
       "1     {u'symbols': [], u'user_mentions': [{u'indices...   \n",
       "10    {u'symbols': [], u'user_mentions': [{u'indices...   \n",
       "100   {u'symbols': [], u'user_mentions': [{u'indices...   \n",
       "1000  {u'symbols': [], u'user_mentions': [{u'indices...   \n",
       "\n",
       "                                      extended_entities  favorite_count  \\\n",
       "0                                                  None               0   \n",
       "1     {u'media': [{u'source_user_id': 65375759, u'so...               0   \n",
       "10    {u'media': [{u'source_user_id': 1458110563, u'...               0   \n",
       "100   {u'media': [{u'source_user_id': 6152112, u'sou...               0   \n",
       "1000                                               None               0   \n",
       "\n",
       "     favorited  geo                  id              id_str  \\\n",
       "0        False  NaN  582276753143529472  582276753143529472   \n",
       "1        False  NaN  581763317997408256  581763317997408256   \n",
       "10       False  NaN  579070493929541633  579070493929541632   \n",
       "100      False  NaN  554211973467226112  554211973467226112   \n",
       "1000     False  NaN  471696592123494400  471696592123494400   \n",
       "\n",
       "                            ...                         lang  place  \\\n",
       "0                           ...                           en    NaN   \n",
       "1                           ...                           en    NaN   \n",
       "10                          ...                           en    NaN   \n",
       "100                         ...                          und    NaN   \n",
       "1000                        ...                           en    NaN   \n",
       "\n",
       "      possibly_sensitive  retweet_count  retweeted  \\\n",
       "0                      0              3      False   \n",
       "1                      0           1184      False   \n",
       "10                     0              3      False   \n",
       "100                    0             35      False   \n",
       "1000                 NaN              0      False   \n",
       "\n",
       "                                       retweeted_status  \\\n",
       "0     {u'contributors': None, u'truncated': False, u...   \n",
       "1     {u'contributors': None, u'truncated': False, u...   \n",
       "10    {u'contributors': None, u'truncated': False, u...   \n",
       "100   {u'contributors': None, u'truncated': False, u...   \n",
       "1000                                               None   \n",
       "\n",
       "                                                 source  \\\n",
       "0     <a href=\"http://twitter.com/download/android\" ...   \n",
       "1     <a href=\"http://twitter.com/download/android\" ...   \n",
       "10    <a href=\"http://twitter.com/download/android\" ...   \n",
       "100   <a href=\"http://twitter.com/download/android\" ...   \n",
       "1000  <a href=\"http://twitter.com\" rel=\"nofollow\">Tw...   \n",
       "\n",
       "                                                   text  truncated  \\\n",
       "0     RT @webmink: As if to demonstrate the darkness...      False   \n",
       "1     RT @zeynep: \"Nothing prepared me for this.\" GO...      False   \n",
       "10    RT @pawelrychlik: Big thanks to @hs_silesia fo...      False   \n",
       "100      RT @agiletortoise: Wow. http://t.co/Ft8DnXJPG2      False   \n",
       "1000  @khertan you are not a heretic, you are tellin...      False   \n",
       "\n",
       "                                                   user  \n",
       "0     {u'follow_request_sent': False, u'profile_use_...  \n",
       "1     {u'follow_request_sent': False, u'profile_use_...  \n",
       "10    {u'follow_request_sent': False, u'profile_use_...  \n",
       "100   {u'follow_request_sent': False, u'profile_use_...  \n",
       "1000  {u'follow_request_sent': False, u'profile_use_...  \n",
       "\n",
       "[5 rows x 25 columns]"
      ]
     },
     "execution_count": 2,
     "metadata": {},
     "output_type": "execute_result"
    }
   ],
   "source": [
    "df.head(5)"
   ]
  },
  {
   "cell_type": "code",
   "execution_count": 3,
   "metadata": {
    "collapsed": false
   },
   "outputs": [],
   "source": [
    "from unidecode import unidecode\n",
    "def get_tags(obj, key, name):\n",
    "    hashtags = [unidecode(hashtag.get(key, u'').lower()) for hashtag in obj[name]]\n",
    "    if hashtags:\n",
    "        return pd.DataFrame(hashtags)\n",
    "\n",
    "hashtags_dfs = df.entities.apply(lambda obj: get_tags(obj, 'text', 'hashtags')).dropna()\n",
    "mentions_dfs = df.entities.apply(lambda obj: get_tags(obj, 'screen_name', 'user_mentions')).dropna()"
   ]
  },
  {
   "cell_type": "code",
   "execution_count": 4,
   "metadata": {
    "collapsed": false
   },
   "outputs": [],
   "source": [
    "hashtags = pd.concat([val for val in hashtags_dfs.values])\n",
    "mentions = pd.concat([val for val in mentions_dfs.values])"
   ]
  },
  {
   "cell_type": "code",
   "execution_count": 5,
   "metadata": {
    "collapsed": false
   },
   "outputs": [
    {
     "data": {
      "text/plain": [
       "0\n",
       "jolla           105\n",
       "sailfishos       55\n",
       "smartdevcon      31\n",
       "pyconpl          28\n",
       "sailfish         23\n",
       "python           19\n",
       "jollaloveday     18\n",
       "tizen            16\n",
       "mobile           15\n",
       "android          15\n",
       "dtype: int64"
      ]
     },
     "execution_count": 5,
     "metadata": {},
     "output_type": "execute_result"
    }
   ],
   "source": [
    "hashtags_counts = hashtags.groupby(0).size()\n",
    "hashtags_counts.sort(ascending=False)\n",
    "hashtags_counts.head(10)"
   ]
  },
  {
   "cell_type": "code",
   "execution_count": 6,
   "metadata": {
    "collapsed": false
   },
   "outputs": [
    {
     "data": {
      "text/plain": [
       "0\n",
       "jollahq            275\n",
       "zogg               201\n",
       "stskeeps           145\n",
       "zzste               90\n",
       "sfietkonstantin     83\n",
       "fk_lx               81\n",
       "achipa              78\n",
       "faenil              77\n",
       "jollapl             75\n",
       "venemo              71\n",
       "dtype: int64"
      ]
     },
     "execution_count": 6,
     "metadata": {},
     "output_type": "execute_result"
    }
   ],
   "source": [
    "mentions_counts = mentions.groupby(0).size()\n",
    "mentions_counts.sort(ascending=False)\n",
    "mentions_counts.head(10)"
   ]
  }
 ],
 "metadata": {
  "kernelspec": {
   "display_name": "Python 2",
   "language": "python",
   "name": "python2"
  },
  "language_info": {
   "codemirror_mode": {
    "name": "ipython",
    "version": 2
   },
   "file_extension": ".py",
   "mimetype": "text/x-python",
   "name": "python",
   "nbconvert_exporter": "python",
   "pygments_lexer": "ipython2",
   "version": "2.7.9"
  }
 },
 "nbformat": 4,
 "nbformat_minor": 0
}
