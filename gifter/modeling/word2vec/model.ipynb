{
 "cells": [
  {
   "cell_type": "code",
   "execution_count": 1,
   "metadata": {
    "collapsed": true
   },
   "outputs": [],
   "source": [
    "import pandas as pd\n",
    "import numpy as np\n",
    "from gensim.models import Word2Vec\n",
    "from gifter.modeling.data import lemmatized_frame\n",
    "from gifter.modeling.tokenizer import lemmatize\n",
    "model = Word2Vec.load_word2vec_format('text8.model.bin', binary=True)\n",
    "\n",
    "def get_similary(w1, w2):\n",
    "    try:\n",
    "        return model.similarity(w1, w2)\n",
    "    except KeyError:\n",
    "        return 0"
   ]
  },
  {
   "cell_type": "code",
   "execution_count": 2,
   "metadata": {
    "collapsed": false
   },
   "outputs": [],
   "source": [
    "df = lemmatized_frame(filename=\"../data.json\", with_tags=False)"
   ]
  },
  {
   "cell_type": "code",
   "execution_count": 3,
   "metadata": {
    "collapsed": false
   },
   "outputs": [],
   "source": [
    "all_categories =  pd.io.json.read_json(\"../../category_hierarchy.json\")\n",
    "categories = all_categories[all_categories.CategoryLevel == 2][['CategoryName', 'CategoryID']]"
   ]
  },
  {
   "cell_type": "code",
   "execution_count": 4,
   "metadata": {
    "collapsed": false
   },
   "outputs": [
    {
     "data": {
      "text/html": [
       "<div style=\"max-height:1000px;max-width:1500px;overflow:auto;\">\n",
       "<table border=\"1\" class=\"dataframe\">\n",
       "  <thead>\n",
       "    <tr style=\"text-align: right;\">\n",
       "      <th></th>\n",
       "      <th>CategoryName</th>\n",
       "      <th>CategoryID</th>\n",
       "      <th>lemmatized</th>\n",
       "      <th>value</th>\n",
       "    </tr>\n",
       "  </thead>\n",
       "  <tbody>\n",
       "    <tr>\n",
       "      <th>1</th>\n",
       "      <td>Antiquities</td>\n",
       "      <td>37903</td>\n",
       "      <td>[antiquity]</td>\n",
       "      <td>0</td>\n",
       "    </tr>\n",
       "    <tr>\n",
       "      <th>2</th>\n",
       "      <td>Architectural &amp; Garden</td>\n",
       "      <td>4707</td>\n",
       "      <td>[architectural, garden]</td>\n",
       "      <td>0</td>\n",
       "    </tr>\n",
       "    <tr>\n",
       "      <th>3</th>\n",
       "      <td>Asian Antiques</td>\n",
       "      <td>20082</td>\n",
       "      <td>[asian, antique]</td>\n",
       "      <td>0</td>\n",
       "    </tr>\n",
       "    <tr>\n",
       "      <th>4</th>\n",
       "      <td>Books &amp; Manuscripts</td>\n",
       "      <td>2195</td>\n",
       "      <td>[book, manuscript]</td>\n",
       "      <td>0</td>\n",
       "    </tr>\n",
       "    <tr>\n",
       "      <th>5</th>\n",
       "      <td>Decorative Arts</td>\n",
       "      <td>20086</td>\n",
       "      <td>[decorative, art]</td>\n",
       "      <td>0</td>\n",
       "    </tr>\n",
       "    <tr>\n",
       "      <th>6</th>\n",
       "      <td>Ethnographic</td>\n",
       "      <td>2207</td>\n",
       "      <td>[ethnographic]</td>\n",
       "      <td>0</td>\n",
       "    </tr>\n",
       "    <tr>\n",
       "      <th>7</th>\n",
       "      <td>Furniture</td>\n",
       "      <td>20091</td>\n",
       "      <td>[furniture]</td>\n",
       "      <td>0</td>\n",
       "    </tr>\n",
       "    <tr>\n",
       "      <th>8</th>\n",
       "      <td>Home &amp; Hearth</td>\n",
       "      <td>163008</td>\n",
       "      <td>[home, hearth]</td>\n",
       "      <td>0</td>\n",
       "    </tr>\n",
       "    <tr>\n",
       "      <th>9</th>\n",
       "      <td>Linens &amp; Textiles (Pre-1930)</td>\n",
       "      <td>2218</td>\n",
       "      <td>[linen, textile, pre]</td>\n",
       "      <td>0</td>\n",
       "    </tr>\n",
       "    <tr>\n",
       "      <th>10</th>\n",
       "      <td>Maps, Atlases &amp; Globes</td>\n",
       "      <td>37958</td>\n",
       "      <td>[map, atlase, globe]</td>\n",
       "      <td>0</td>\n",
       "    </tr>\n",
       "  </tbody>\n",
       "</table>\n",
       "</div>"
      ],
      "text/plain": [
       "                    CategoryName  CategoryID               lemmatized  value\n",
       "1                    Antiquities       37903              [antiquity]      0\n",
       "2         Architectural & Garden        4707  [architectural, garden]      0\n",
       "3                 Asian Antiques       20082         [asian, antique]      0\n",
       "4            Books & Manuscripts        2195       [book, manuscript]      0\n",
       "5                Decorative Arts       20086        [decorative, art]      0\n",
       "6                   Ethnographic        2207           [ethnographic]      0\n",
       "7                      Furniture       20091              [furniture]      0\n",
       "8                  Home & Hearth      163008           [home, hearth]      0\n",
       "9   Linens & Textiles (Pre-1930)        2218    [linen, textile, pre]      0\n",
       "10        Maps, Atlases & Globes       37958     [map, atlase, globe]      0"
      ]
     },
     "execution_count": 4,
     "metadata": {},
     "output_type": "execute_result"
    }
   ],
   "source": [
    "categories['lemmatized'] = categories.CategoryName.apply(lambda name: lemmatize(name, with_tags=False))\n",
    "# remove empty\n",
    "categories = categories[categories['lemmatized'].apply(len) > 0]\n",
    "categories['value'] = 0\n",
    "categories.head(10)"
   ]
  },
  {
   "cell_type": "code",
   "execution_count": 5,
   "metadata": {
    "collapsed": false
   },
   "outputs": [],
   "source": [
    "def count_membership(words, tweet_lemmas):\n",
    "    return np.max([\n",
    "        np.min([get_similary(word, tweet_lemma) for word in words])\n",
    "        for tweet_lemma in tweet_lemmas\n",
    "    ])"
   ]
  },
  {
   "cell_type": "code",
   "execution_count": null,
   "metadata": {
    "collapsed": false
   },
   "outputs": [],
   "source": [
    "for idx, cat in categories.iterrows():\n",
    "    categories.ix[idx, 'value'] = df.lemmas.apply(\n",
    "        lambda tweet_lemmas: count_membership(cat.lemmatized, tweet_lemmas)\n",
    "    ).sum()"
   ]
  },
  {
   "cell_type": "code",
   "execution_count": null,
   "metadata": {
    "collapsed": false
   },
   "outputs": [
    {
     "data": {
      "text/plain": [
       "<matplotlib.axes._subplots.AxesSubplot at 0x11a4f4450>"
      ]
     },
     "execution_count": 7,
     "metadata": {},
     "output_type": "execute_result"
    }
   ],
   "source": [
    "%matplotlib inline\n",
    "categories.sort('value', ascending=False, inplace=True)\n",
    "# rozkład\n",
    "categories.plot(kind='bar', y='value', xticks=(), legend=False)"
   ]
  },
  {
   "cell_type": "code",
   "execution_count": null,
   "metadata": {
    "collapsed": false
   },
   "outputs": [],
   "source": [
    "categories.head(10).plot(kind='bar', x='CategoryName', y='value', legend=False)"
   ]
  },
  {
   "cell_type": "markdown",
   "metadata": {},
   "source": [
    "Informatyk ^^"
   ]
  },
  {
   "cell_type": "code",
   "execution_count": null,
   "metadata": {
    "collapsed": true
   },
   "outputs": [],
   "source": []
  }
 ],
 "metadata": {
  "kernelspec": {
   "display_name": "Python 2",
   "language": "python",
   "name": "python2"
  },
  "language_info": {
   "codemirror_mode": {
    "name": "ipython",
    "version": 2
   },
   "file_extension": ".py",
   "mimetype": "text/x-python",
   "name": "python",
   "nbconvert_exporter": "python",
   "pygments_lexer": "ipython2",
   "version": "2.7.9"
  }
 },
 "nbformat": 4,
 "nbformat_minor": 0
}
