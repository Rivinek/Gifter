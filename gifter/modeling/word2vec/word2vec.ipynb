{
 "cells": [
  {
   "cell_type": "code",
   "execution_count": 1,
   "metadata": {
    "collapsed": true
   },
   "outputs": [],
   "source": [
    "from gensim.models import Word2Vec\n",
    "from gensim.models.word2vec import Text8Corpus\n",
    "from nltk.corpus import brown, movie_reviews, treebank"
   ]
  },
  {
   "cell_type": "markdown",
   "metadata": {},
   "source": [
    "ngramy nie zadziałają potrzebujemy prawdziwych zdań - wybrałem corpusy z NLTK && text8"
   ]
  },
  {
   "cell_type": "code",
   "execution_count": 2,
   "metadata": {
    "collapsed": false
   },
   "outputs": [],
   "source": [
    "b = Word2Vec(brown.sents(), workers=4)\n",
    "mr = Word2Vec(movie_reviews.sents(), workers=4)\n",
    "t = Word2Vec(treebank.sents(), workers=4)"
   ]
  },
  {
   "cell_type": "code",
   "execution_count": 3,
   "metadata": {
    "collapsed": false
   },
   "outputs": [],
   "source": [
    "text8 = Word2Vec(Text8Corpus('text8'), size=200, workers=4)"
   ]
  },
  {
   "cell_type": "code",
   "execution_count": 4,
   "metadata": {
    "collapsed": false
   },
   "outputs": [
    {
     "name": "stdout",
     "output_type": "stream",
     "text": [
      "motor\n",
      "text8\n",
      "[(u'automobile', 0.8172062039375305), (u'toyota', 0.815490186214447), (u'automobiles', 0.8095245957374573), (u'motors', 0.8077422976493835), (u'outboard', 0.8013105988502502), (u'motorcycle', 0.8002134561538696), (u'cosworth', 0.7982491254806519), (u'vehicles', 0.7894251942634583), (u'volvo', 0.788885772228241), (u'limousines', 0.7853401303291321)]\n",
      "b\n",
      "[(u'electrical', 0.9103607535362244), (u'basement', 0.9070858359336853), (u'Presidency', 0.898755669593811), (u'joints', 0.8961712121963501), (u'diaphragm', 0.8947722911834717), (u'loading', 0.8938139081001282), (u'quill', 0.8928015232086182), (u'giants', 0.8913607597351074), (u'plus', 0.8906459808349609), (u'reflector', 0.8903198838233948)]\n",
      "t\n",
      "mr\n",
      "[(u'operative', 0.8356553316116333), (u'wielding', 0.8348665833473206), (u'attendant', 0.831035315990448), (u'via', 0.8305097222328186), (u'rival', 0.8281843662261963), (u'novelist', 0.8258114457130432), (u'fictitious', 0.8250606060028076), (u'rowlands', 0.8250433802604675), (u'blooded', 0.8198429346084595), (u'bin', 0.8190585970878601)]\n",
      "\n",
      "fashion\n",
      "text8\n",
      "[(u'couture', 0.7396429777145386), (u'performer', 0.7327593564987183), (u'manner', 0.7223772406578064), (u'operatic', 0.7196706533432007), (u'style', 0.716900646686554), (u'vaudeville', 0.7161691784858704), (u'monody', 0.7153119444847107), (u'impressionist', 0.7117966413497925), (u'grunge', 0.7101457715034485), (u'romantic', 0.7094225287437439)]\n",
      "b\n",
      "[(u'veto', 0.8757921457290649), (u'attendance', 0.8746657371520996), (u'explosion', 0.8619714975357056), (u'2-year-old', 0.8610743284225464), (u'advance', 0.8599448204040527), (u'800', 0.859620213508606), (u'missions', 0.8559762239456177), (u'Korea', 0.8554732203483582), (u'cypress', 0.8552063703536987), (u'turmoil', 0.8551492691040039)]\n",
      "t\n",
      "mr\n",
      "[(u'eighties', 0.8687266111373901), (u'camp', 0.8629544973373413), (u'rural', 0.8531826734542847), (u'u', 0.852821946144104), (u'stride', 0.845134973526001), (u'competition', 0.8413248062133789), (u'1960s', 0.8365586400032043), (u'frenzied', 0.8351920247077942), (u'jamaica', 0.8344768285751343), (u'nevada', 0.8342581391334534)]\n",
      "\n",
      "electronic\n",
      "text8\n",
      "[(u'synthesizers', 0.8272427320480347), (u'synthesizer', 0.8013671040534973), (u'electro', 0.7995699048042297), (u'instrumentation', 0.7861365675926208), (u'synthesisers', 0.7807367444038391), (u'samplers', 0.775663435459137), (u'electromechanical', 0.7700479030609131), (u'electronics', 0.7679225206375122), (u'electronically', 0.7654764652252197), (u'karaoke', 0.7610389590263367)]\n",
      "b\n",
      "[(u'index', 0.8917950987815857), (u'electron', 0.8731387853622437), (u'arbitrary', 0.8695206046104431), (u'switches', 0.8657621145248413), (u'systems', 0.8606528639793396), (u'switch', 0.8569700717926025), (u'functions', 0.8565942645072937), (u'empirical', 0.8554633855819702), (u'values', 0.8534995317459106), (u'phonologic', 0.8500001430511475)]\n",
      "t\n",
      "[(u'back', 0.8531553149223328), (u'Supreme', 0.8528345227241516), (u'branch', 0.8518924117088318), (u'traders', 0.8510962128639221), (u'program', 0.8499813079833984), (u'airline', 0.8481301665306091), (u'family', 0.8375481963157654), (u'duties', 0.8284268975257874), (u'nomination', 0.8271555304527283), (u'Program', 0.8245141506195068)]\n",
      "mr\n",
      "[(u'spirituality', 0.8809937238693237), (u'array', 0.8749721050262451), (u'rendering', 0.8696386218070984), (u'collapsing', 0.864276111125946), (u'loads', 0.8633079528808594), (u'leaps', 0.8620427250862122), (u'shades', 0.861438512802124), (u'abuse', 0.8537555932998657), (u'forests', 0.8517434000968933), (u'conspiracies', 0.8508871793746948)]\n",
      "\n",
      "art\n",
      "text8\n",
      "[(u'arts', 0.813220202922821), (u'joslyn', 0.7759361267089844), (u'painting', 0.7703996896743774), (u'kalarippayattu', 0.7666319012641907), (u'nouveau', 0.7641851902008057), (u'deco', 0.7625236511230469), (u'architectural', 0.7582674026489258), (u'literature', 0.7562446594238281), (u'savate', 0.752745509147644), (u'artistic', 0.7499842643737793)]\n",
      "b\n",
      "[(u'modern', 0.8804374933242798), (u'spirit', 0.8796408772468567), (u'intellectual', 0.8778691291809082), (u'dialectic', 0.8774545788764954), (u'destiny', 0.8762459754943848), (u'nature', 0.8760349154472351), (u'aesthetic', 0.873148500919342), (u'existence', 0.8708158135414124), (u'well-being', 0.8692652583122253), (u'identity', 0.866535484790802)]\n",
      "t\n",
      "mr\n",
      "[(u'shades', 0.8496742248535156), (u'instrument', 0.8466917872428894), (u'notre', 0.8457711935043335), (u'hilarity', 0.8405545353889465), (u'inhabitants', 0.8396091461181641), (u'leaders', 0.838056743144989), (u'loads', 0.82583087682724), (u'stupidity', 0.8257139921188354), (u'imagery', 0.8232757449150085), (u'cultures', 0.8213232159614563)]\n",
      "\n",
      "sport\n",
      "text8\n",
      "[(u'sports', 0.8262331485748291), (u'soccer', 0.8193410038948059), (u'fencing', 0.8150705695152283), (u'indoor', 0.8020597100257874), (u'curling', 0.8010570406913757), (u'gymnastics', 0.7953453063964844), (u'lacrosse', 0.7894005179405212), (u'handball', 0.7878487706184387), (u'sporting', 0.7866163849830627), (u'club', 0.7856106758117676)]\n",
      "b\n",
      "[(u'institution', 0.8674986958503723), (u'bomb', 0.8567081689834595), (u'atom', 0.8529977202415466), (u'2-year-old', 0.8512466549873352), (u'seller', 0.8507952690124512), (u'communist', 0.8493136763572693), (u'routine', 0.8481288552284241), (u'monopoly', 0.8476513028144836), (u'steep', 0.8466917276382446), (u'economy', 0.8441421985626221)]\n",
      "t\n",
      "mr\n",
      "[(u'bubble', 0.8136425614356995), (u'pre', 0.8129444718360901), (u'radiation', 0.8064560294151306), (u'lineup', 0.8053839802742004), (u'brained', 0.7966493964195251), (u'trail', 0.793864369392395), (u'crack', 0.792426586151123), (u'cum', 0.7923880219459534), (u'orthodox', 0.7920135259628296), (u'mini', 0.7902089357376099)]\n",
      "\n"
     ]
    }
   ],
   "source": [
    "cats = ['motor', 'fashion', 'electronic', 'art', 'sport']\n",
    "for cat in cats:\n",
    "    print cat\n",
    "    for name, model in {'b': b, 'mr': mr, 't': t, 'text8': text8}.iteritems():\n",
    "        try:\n",
    "            print name\n",
    "            print model.most_similar_cosmul(cat)\n",
    "        except KeyError:\n",
    "            continue\n",
    "    print "
   ]
  },
  {
   "cell_type": "code",
   "execution_count": 5,
   "metadata": {
    "collapsed": true
   },
   "outputs": [],
   "source": [
    "text8.save_word2vec_format('text8' + '.model.bin', binary=True)"
   ]
  },
  {
   "cell_type": "code",
   "execution_count": 6,
   "metadata": {
    "collapsed": true
   },
   "outputs": [],
   "source": [
    "text8 = Word2Vec.load_word2vec_format('text8.model.bin', binary=True)"
   ]
  },
  {
   "cell_type": "code",
   "execution_count": 11,
   "metadata": {
    "collapsed": false
   },
   "outputs": [
    {
     "data": {
      "text/plain": [
       "[(u'winningest', 0.7746384143829346),\n",
       " (u'basketball', 0.7395498156547546),\n",
       " (u'mlb', 0.7367720603942871),\n",
       " (u'softball', 0.7307658195495605),\n",
       " (u'nhl', 0.7266578674316406),\n",
       " (u'mvp', 0.7197707891464233),\n",
       " (u'alcs', 0.7163671851158142),\n",
       " (u'bruins', 0.703272819519043),\n",
       " (u'yzerman', 0.701540470123291),\n",
       " (u'volleyball', 0.6968013048171997)]"
      ]
     },
     "execution_count": 11,
     "metadata": {},
     "output_type": "execute_result"
    }
   ],
   "source": [
    "text8.most_similar('nba')"
   ]
  },
  {
   "cell_type": "code",
   "execution_count": 12,
   "metadata": {
    "collapsed": false
   },
   "outputs": [
    {
     "data": {
      "text/plain": [
       "0.73954982826848559"
      ]
     },
     "execution_count": 12,
     "metadata": {},
     "output_type": "execute_result"
    }
   ],
   "source": [
    "text8.similarity('nba', 'basketball')"
   ]
  },
  {
   "cell_type": "code",
   "execution_count": 14,
   "metadata": {
    "collapsed": false
   },
   "outputs": [
    {
     "data": {
      "text/plain": [
       "0.59684818458024635"
      ]
     },
     "execution_count": 14,
     "metadata": {},
     "output_type": "execute_result"
    }
   ],
   "source": [
    "text8.similarity('nba', 'football')"
   ]
  },
  {
   "cell_type": "code",
   "execution_count": null,
   "metadata": {
    "collapsed": true
   },
   "outputs": [],
   "source": []
  }
 ],
 "metadata": {
  "kernelspec": {
   "display_name": "Python 2",
   "language": "python",
   "name": "python2"
  },
  "language_info": {
   "codemirror_mode": {
    "name": "ipython",
    "version": 2
   },
   "file_extension": ".py",
   "mimetype": "text/x-python",
   "name": "python",
   "nbconvert_exporter": "python",
   "pygments_lexer": "ipython2",
   "version": "2.7.9"
  }
 },
 "nbformat": 4,
 "nbformat_minor": 0
}
