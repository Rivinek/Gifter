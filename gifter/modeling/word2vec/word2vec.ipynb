{
 "cells": [
  {
   "cell_type": "code",
   "execution_count": 1,
   "metadata": {
    "collapsed": true
   },
   "outputs": [],
   "source": [
    "from gensim.models import Word2Vec\n",
    "from gensim.models.word2vec import Text8Corpus\n",
    "from nltk.corpus import brown, movie_reviews, treebank"
   ]
  },
  {
   "cell_type": "markdown",
   "metadata": {},
   "source": [
    "ngramy nie zadziałają potrzebujemy prawdziwych zdań - wybrałem corpusy z NLTK && text8"
   ]
  },
  {
   "cell_type": "code",
   "execution_count": 2,
   "metadata": {
    "collapsed": false
   },
   "outputs": [],
   "source": [
    "b = Word2Vec(brown.sents(), workers=4)\n",
    "mr = Word2Vec(movie_reviews.sents(), workers=4)\n",
    "t = Word2Vec(treebank.sents(), workers=4)"
   ]
  },
  {
   "cell_type": "markdown",
   "metadata": {},
   "source": [
    "Oba treningi ponieżej trwają trochę czasu..."
   ]
  },
  {
   "cell_type": "code",
   "execution_count": 3,
   "metadata": {
    "collapsed": false
   },
   "outputs": [],
   "source": [
    "text8 = Word2Vec(Text8Corpus('text8'), size=200, workers=4)"
   ]
  },
  {
   "cell_type": "code",
   "execution_count": 2,
   "metadata": {
    "collapsed": true
   },
   "outputs": [],
   "source": [
    "enwiki = Word2Vec(Text8Corpus('enwiki_corpus'), size=200, workers=4)"
   ]
  },
  {
   "cell_type": "code",
   "execution_count": 5,
   "metadata": {
    "collapsed": false
   },
   "outputs": [
    {
     "name": "stdout",
     "output_type": "stream",
     "text": [
      "motor\n",
      "text8\n",
      "[(u'automobile', 0.8172062039375305), (u'toyota', 0.815490186214447), (u'automobiles', 0.8095245957374573), (u'motors', 0.8077422976493835), (u'outboard', 0.8013105988502502), (u'motorcycle', 0.8002134561538696), (u'cosworth', 0.7982491254806519), (u'vehicles', 0.7894251942634583), (u'volvo', 0.788885772228241), (u'limousines', 0.7853401303291321)]\n",
      "b\n",
      "[(u'electrical', 0.9041469097137451), (u'base', 0.9007617831230164), (u'currency', 0.8987605571746826), (u'lamp', 0.8974631428718567), (u'Symposium', 0.8970143795013428), (u'necessitated', 0.8962005376815796), (u'expanded', 0.8957831859588623), (u'voting', 0.8954358696937561), (u'operators', 0.8931257128715515), (u'serial', 0.8925472497940063)]\n",
      "enwiki\n",
      "[(u'automobile', 0.8498483896255493), (u'motors', 0.8483686447143555), (u'car', 0.846645712852478), (u'cars', 0.8306874632835388), (u'toyota', 0.8304885029792786), (u'automobiles', 0.8298750519752502), (u'motorcycles', 0.8283529281616211), (u'onroad', 0.8263407349586487), (u'vehicles', 0.8256785273551941), (u'microcars', 0.817724347114563)]\n",
      "t\n",
      "mr\n",
      "[(u'businessman', 0.9080595970153809), (u'owner', 0.9045777320861816), (u'exec', 0.8997523784637451), (u'millionaire', 0.8961940407752991), (u'maniac', 0.8947538733482361), (u'former', 0.8906196355819702), (u'professor', 0.8887404203414917), (u'policeman', 0.8879765272140503), (u'designer', 0.885317862033844), (u'translator', 0.8833185434341431)]\n",
      "\n",
      "fashion\n",
      "text8\n",
      "[(u'couture', 0.7396429777145386), (u'performer', 0.7327593564987183), (u'manner', 0.7223772406578064), (u'operatic', 0.7196706533432007), (u'style', 0.716900646686554), (u'vaudeville', 0.7161691784858704), (u'monody', 0.7153119444847107), (u'impressionist', 0.7117966413497925), (u'grunge', 0.7101457715034485), (u'romantic', 0.7094225287437439)]\n",
      "b\n",
      "[(u'relief', 0.8828911185264587), (u'Brahms', 0.8750501871109009), (u'appearing', 0.8697855472564697), (u'smoothness', 0.8625562787055969), (u'computation', 0.8624716997146606), (u'disagreement', 0.8623486757278442), (u'recipe', 0.8620295524597168), (u'optimism', 0.8612750768661499), (u'norm', 0.8597919940948486), (u'leadership', 0.859330952167511)]\n",
      "enwiki\n",
      "[(u'costume', 0.7743331789970398), (u'swimsuit', 0.7610443830490112), (u'manner', 0.7538952827453613), (u'clothing', 0.7536678314208984), (u'flashy', 0.7482452392578125), (u'flapper', 0.7465704679489136), (u'fashions', 0.7431329488754272), (u'fetish', 0.7427088022232056), (u'designer', 0.7386406660079956), (u'attire', 0.7385929822921753)]\n",
      "t\n",
      "mr\n",
      "[(u'uk', 0.8425087332725525), (u'environment', 0.84199458360672), (u'glorious', 0.8315944075584412), (u'results', 0.8252289891242981), (u'1960s', 0.8206858038902283), (u'overkill', 0.8202975392341614), (u'eighties', 0.8166977763175964), (u'musical', 0.8166446089744568), (u'corruption', 0.8156394958496094), (u'revolutionary', 0.8142706155776978)]\n",
      "\n",
      "electronic\n",
      "text8\n",
      "[(u'synthesizers', 0.8272427320480347), (u'synthesizer', 0.8013671040534973), (u'electro', 0.7995699048042297), (u'instrumentation', 0.7861365675926208), (u'synthesisers', 0.7807367444038391), (u'samplers', 0.775663435459137), (u'electromechanical', 0.7700479030609131), (u'electronics', 0.7679225206375122), (u'electronically', 0.7654764652252197), (u'karaoke', 0.7610389590263367)]\n",
      "b\n",
      "[(u'index', 0.8982959985733032), (u'urethane', 0.8977078199386597), (u'switches', 0.8820139765739441), (u'components', 0.8685042858123779), (u'distinct', 0.8626470565795898), (u'values', 0.860988199710846), (u'phonologic', 0.859020471572876), (u'electron', 0.8572016954421997), (u'fabrics', 0.8565480709075928), (u'functions', 0.856395959854126)]\n",
      "enwiki\n",
      "[(u'electronics', 0.8180760741233826), (u'digital', 0.8112244009971619), (u'idm', 0.8043509125709534), (u'commercemarketinginformation', 0.7997358441352844), (u'electromechanical', 0.7970860600471497), (u'rfid', 0.7902933359146118), (u'devices', 0.7803665399551392), (u'synthesisers', 0.7788370251655579), (u'sequencers', 0.7767955660820007), (u'nortec', 0.7764245271682739)]\n",
      "t\n",
      "[(u'back', 0.8531510233879089), (u'Supreme', 0.8528345227241516), (u'branch', 0.8518924117088318), (u'traders', 0.8510962128639221), (u'program', 0.8499813079833984), (u'airline', 0.8481301665306091), (u'family', 0.836294412612915), (u'duties', 0.8284268975257874), (u'nomination', 0.8271555304527283), (u'Program', 0.8245141506195068)]\n",
      "mr\n",
      "[(u'endless', 0.8843293786048889), (u'realities', 0.8804874420166016), (u'salesmen', 0.8771207332611084), (u'outdated', 0.8627399206161499), (u'terrorism', 0.8599480390548706), (u'scum', 0.8586053252220154), (u'popping', 0.8533668518066406), (u'unwittingly', 0.8532489538192749), (u'spouting', 0.8518502116203308), (u'sweeping', 0.8514862060546875)]\n",
      "\n",
      "art\n",
      "text8\n",
      "[(u'arts', 0.813220202922821), (u'joslyn', 0.7759361267089844), (u'painting', 0.7703996896743774), (u'kalarippayattu', 0.7666319012641907), (u'nouveau', 0.7641851902008057), (u'deco', 0.7625236511230469), (u'architectural', 0.7582674026489258), (u'literature', 0.7562446594238281), (u'savate', 0.752745509147644), (u'artistic', 0.7499842643737793)]\n",
      "b\n",
      "[(u'aesthetic', 0.9050459265708923), (u'reality', 0.8956136107444763), (u'character', 0.8943156003952026), (u'efficacy', 0.8777799606323242), (u'status', 0.8727706670761108), (u'modern', 0.871667742729187), (u'congregations', 0.870980441570282), (u'artistic', 0.8678956031799316), (u'sovereignty', 0.8672769665718079), (u'mode', 0.8672597408294678)]\n",
      "enwiki\n",
      "[(u'painting', 0.8225162029266357), (u'deco', 0.8166401982307434), (u'exhibitions', 0.801399290561676), (u'sculpture', 0.7981659770011902), (u'kelvingrove', 0.79074627161026), (u'arts', 0.7852022051811218), (u'fluxus', 0.784562885761261), (u'impressionism', 0.7803048491477966), (u'aesthetics', 0.7768410444259644), (u'spiegelman', 0.7767727375030518)]\n",
      "t\n",
      "mr\n",
      "[(u'intrusion', 0.8491096496582031), (u'destruction', 0.8482972979545593), (u'images', 0.8306547403335571), (u'notre', 0.8282228708267212), (u'instrument', 0.826793372631073), (u'affairs', 0.8251686692237854), (u'depictions', 0.8181970715522766), (u'isolation', 0.8136802315711975), (u'rendition', 0.8096910119056702), (u'formation', 0.8096138834953308)]\n",
      "\n",
      "sport\n",
      "text8\n",
      "[(u'sports', 0.8262331485748291), (u'soccer', 0.8193410038948059), (u'fencing', 0.8150705695152283), (u'indoor', 0.8020597100257874), (u'curling', 0.8010570406913757), (u'gymnastics', 0.7953453063964844), (u'lacrosse', 0.7894005179405212), (u'handball', 0.7878487706184387), (u'sporting', 0.7866163849830627), (u'club', 0.7856106758117676)]\n",
      "b\n",
      "[(u'subscribers', 0.8468707799911499), (u'developer', 0.8299082517623901), (u'toilet', 0.8284655809402466), (u'alarm', 0.828356921672821), (u'unrest', 0.8263490200042725), (u'seller', 0.8238042593002319), (u'cathedral', 0.8213808536529541), (u'neighborhood', 0.8204649090766907), (u'cork', 0.819435715675354), (u'expedition', 0.8174144625663757)]\n",
      "enwiki\n",
      "[(u'sports', 0.8638367056846619), (u'competitions', 0.8453835248947144), (u'golf', 0.8219647407531738), (u'rowing', 0.821864902973175), (u'yachting', 0.8136420845985413), (u'sporting', 0.8066574931144714), (u'cycling', 0.805072546005249), (u'club', 0.8040440678596497), (u'racing', 0.8017594218254089), (u'canoeing', 0.8013858795166016)]\n",
      "t\n",
      "mr\n",
      "[(u'jerk', 0.8465408086776733), (u'tough', 0.8337870836257935), (u'cross', 0.8258075714111328), (u'conscience', 0.8181300163269043), (u'salesman', 0.8120564222335815), (u'bird', 0.8115483522415161), (u'horn', 0.8106030821800232), (u'addicted', 0.8052396178245544), (u'kilter', 0.8030688166618347), (u'bubble', 0.8014053702354431)]\n",
      "\n"
     ]
    }
   ],
   "source": [
    "cats = ['motor', 'fashion', 'electronic', 'art', 'sport']\n",
    "for cat in cats:\n",
    "    print cat\n",
    "    for name, model in {'b': b, 'mr': mr, 't': t, 'text8': text8, 'enwiki': enwiki}.iteritems():\n",
    "        try:\n",
    "            print name\n",
    "            print model.most_similar_cosmul(cat)\n",
    "        except KeyError:\n",
    "            continue\n",
    "    print "
   ]
  },
  {
   "cell_type": "markdown",
   "metadata": {},
   "source": [
    "Zapisywanie do pliku binarnego:"
   ]
  },
  {
   "cell_type": "code",
   "execution_count": 5,
   "metadata": {
    "collapsed": true
   },
   "outputs": [],
   "source": [
    "text8.save_word2vec_format('text8.model.bin', binary=True)\n",
    "enwiki.save_word2vec_format('enwiki.model.bin', binary=True)"
   ]
  },
  {
   "cell_type": "markdown",
   "metadata": {},
   "source": [
    "Odczyt z pliku binarnego"
   ]
  },
  {
   "cell_type": "code",
   "execution_count": 4,
   "metadata": {
    "collapsed": false
   },
   "outputs": [],
   "source": [
    "text8 = Word2Vec.load_word2vec_format('text8.model.bin', binary=True)\n",
    "enwiki = Word2Vec.load_word2vec_format('enwiki.model.bin', binary=True)"
   ]
  },
  {
   "cell_type": "code",
   "execution_count": 4,
   "metadata": {
    "collapsed": false
   },
   "outputs": [
    {
     "data": {
      "text/plain": [
       "[(u'wnba', 0.8101906776428223),\n",
       " (u'nfl', 0.7959944605827332),\n",
       " (u'nhl', 0.7310143709182739),\n",
       " (u'sixers', 0.6989996433258057),\n",
       " (u'mvp', 0.6989246606826782),\n",
       " (u'postseason', 0.6946154832839966),\n",
       " (u'mlb', 0.6902665495872498),\n",
       " (u'playoffs', 0.6862843036651611),\n",
       " (u'celtics', 0.6780688166618347),\n",
       " (u'euroleague', 0.6693359613418579)]"
      ]
     },
     "execution_count": 4,
     "metadata": {},
     "output_type": "execute_result"
    }
   ],
   "source": [
    "enwiki.most_similar('nba')"
   ]
  },
  {
   "cell_type": "code",
   "execution_count": 5,
   "metadata": {
    "collapsed": false
   },
   "outputs": [
    {
     "data": {
      "text/plain": [
       "0.64179428289525409"
      ]
     },
     "execution_count": 5,
     "metadata": {},
     "output_type": "execute_result"
    }
   ],
   "source": [
    "enwiki.similarity('nba', 'basketball')"
   ]
  },
  {
   "cell_type": "code",
   "execution_count": 6,
   "metadata": {
    "collapsed": false
   },
   "outputs": [
    {
     "data": {
      "text/plain": [
       "0.53816326709255113"
      ]
     },
     "execution_count": 6,
     "metadata": {},
     "output_type": "execute_result"
    }
   ],
   "source": [
    "enwiki.similarity('nba', 'football')"
   ]
  },
  {
   "cell_type": "code",
   "execution_count": 15,
   "metadata": {
    "collapsed": false
   },
   "outputs": [
    {
     "data": {
      "text/plain": [
       "[(u'flowers', 0.6915557384490967),\n",
       " (u'leaf', 0.6554185748100281),\n",
       " (u'camellia', 0.6253741383552551),\n",
       " (u'tree', 0.6186197996139526),\n",
       " (u'buberel', 0.6063719391822815),\n",
       " (u'pansy', 0.5989151000976562),\n",
       " (u'chrysanthemum', 0.589608907699585),\n",
       " (u'strelitzia', 0.5878528356552124),\n",
       " (u'acaule', 0.587199866771698),\n",
       " (u'blossom', 0.5848267078399658)]"
      ]
     },
     "execution_count": 15,
     "metadata": {},
     "output_type": "execute_result"
    }
   ],
   "source": [
    "enwiki.most_similar('flower')"
   ]
  },
  {
   "cell_type": "code",
   "execution_count": 18,
   "metadata": {
    "collapsed": false
   },
   "outputs": [
    {
     "data": {
      "text/plain": [
       "0.25256531655863024"
      ]
     },
     "execution_count": 18,
     "metadata": {},
     "output_type": "execute_result"
    }
   ],
   "source": [
    "enwiki.similarity('obama', 'hamish')"
   ]
  },
  {
   "cell_type": "code",
   "execution_count": null,
   "metadata": {
    "collapsed": true
   },
   "outputs": [],
   "source": []
  }
 ],
 "metadata": {
  "kernelspec": {
   "display_name": "Python 2",
   "language": "python",
   "name": "python2"
  },
  "language_info": {
   "codemirror_mode": {
    "name": "ipython",
    "version": 2
   },
   "file_extension": ".py",
   "mimetype": "text/x-python",
   "name": "python",
   "nbconvert_exporter": "python",
   "pygments_lexer": "ipython2",
   "version": "2.7.9"
  }
 },
 "nbformat": 4,
 "nbformat_minor": 0
}
