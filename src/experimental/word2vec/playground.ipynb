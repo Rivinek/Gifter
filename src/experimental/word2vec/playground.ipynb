{
 "cells": [
  {
   "cell_type": "code",
   "execution_count": 1,
   "metadata": {
    "collapsed": true
   },
   "outputs": [],
   "source": [
    "from gifter.modeling.word2vec.pretrained_models import get_by_name\n",
    "model = get_by_name('enwiki')"
   ]
  },
  {
   "cell_type": "code",
   "execution_count": 3,
   "metadata": {
    "collapsed": false
   },
   "outputs": [
    {
     "name": "stdout",
     "output_type": "stream",
     "text": [
      "motor\n",
      "[(u'automobile', 0.713447093963623), (u'motors', 0.7129916548728943), (u'car', 0.6802540421485901), (u'automobiles', 0.6619741916656494), (u'cars', 0.6515277624130249), (u'studebaker', 0.6353943347930908), (u'vehicles', 0.6348360776901245), (u'toyota', 0.6287639737129211), (u'automotive', 0.6287119388580322), (u'wheeled', 0.6185275316238403)]\n",
      "\n",
      "fashion\n",
      "[(u'costume', 0.5503972768783569), (u'swimsuit', 0.5422420501708984), (u'attire', 0.5258979797363281), (u'fetish', 0.5078959465026855), (u'manner', 0.4907931983470917), (u'fashions', 0.4831063151359558), (u'flapper', 0.48130542039871216), (u'designer', 0.4789823591709137), (u'clothing', 0.4733448624610901), (u'dress', 0.4609099328517914)]\n",
      "\n",
      "electronic\n",
      "[(u'electronics', 0.6479170918464661), (u'digital', 0.621271014213562), (u'commercemarketinginformation', 0.6163069605827332), (u'sequencers', 0.599888801574707), (u'idm', 0.5905737280845642), (u'multitracking', 0.5783808827400208), (u'rfid', 0.5768447518348694), (u'analog', 0.5733310580253601), (u'multitrack', 0.5672482252120972), (u'electro', 0.556769847869873)]\n",
      "\n",
      "art\n",
      "[(u'painting', 0.6176597476005554), (u'deco', 0.6160287261009216), (u'exhibitions', 0.592059314250946), (u'sculpture', 0.5785170793533325), (u'artway', 0.5744816660881042), (u'arts', 0.5591288208961487), (u'gallery', 0.5543832778930664), (u'nouveau', 0.5543169975280762), (u'museum', 0.5501549243927002), (u'kelvingrove', 0.5477179288864136)]\n",
      "\n",
      "sport\n",
      "[(u'sports', 0.7338972091674805), (u'competitions', 0.7019681930541992), (u'sporting', 0.6634987592697144), (u'rowing', 0.6547562479972839), (u'cycling', 0.6473284959793091), (u'golf', 0.6299470663070679), (u'motorsport', 0.6276319026947021), (u'racing', 0.6240622401237488), (u'snowboarding', 0.621665358543396), (u'luge', 0.6185740232467651)]\n",
      "\n"
     ]
    }
   ],
   "source": [
    "cats = ['motor', 'fashion', 'electronic', 'art', 'sport']\n",
    "for cat in cats:\n",
    "    print cat\n",
    "    try:\n",
    "        print model.most_similar(cat)\n",
    "    except KeyError:\n",
    "        continue\n",
    "    print"
   ]
  },
  {
   "cell_type": "code",
   "execution_count": 4,
   "metadata": {
    "collapsed": false
   },
   "outputs": [
    {
     "data": {
      "text/plain": [
       "[(u'nfl', 0.8126134276390076),\n",
       " (u'wnba', 0.8071781992912292),\n",
       " (u'sixers', 0.7345258593559265),\n",
       " (u'mlb', 0.7317590117454529),\n",
       " (u'nhl', 0.7252433896064758),\n",
       " (u'postseason', 0.7242968678474426),\n",
       " (u'mvp', 0.7187668085098267),\n",
       " (u'celtics', 0.7124544382095337),\n",
       " (u'playoffs', 0.7062817215919495),\n",
       " (u'cfl', 0.6823973655700684)]"
      ]
     },
     "execution_count": 4,
     "metadata": {},
     "output_type": "execute_result"
    }
   ],
   "source": [
    "model.most_similar('nba')"
   ]
  },
  {
   "cell_type": "code",
   "execution_count": 5,
   "metadata": {
    "collapsed": false
   },
   "outputs": [
    {
     "data": {
      "text/plain": [
       "0.64662062663330766"
      ]
     },
     "execution_count": 5,
     "metadata": {},
     "output_type": "execute_result"
    }
   ],
   "source": [
    "model.similarity('nba', 'basketball')"
   ]
  },
  {
   "cell_type": "code",
   "execution_count": 6,
   "metadata": {
    "collapsed": false
   },
   "outputs": [
    {
     "data": {
      "text/plain": [
       "0.56140236716887881"
      ]
     },
     "execution_count": 6,
     "metadata": {},
     "output_type": "execute_result"
    }
   ],
   "source": [
    "model.similarity('nba', 'football')"
   ]
  },
  {
   "cell_type": "code",
   "execution_count": 7,
   "metadata": {
    "collapsed": false
   },
   "outputs": [
    {
     "data": {
      "text/plain": [
       "[(u'flowers', 0.6995135545730591),\n",
       " (u'leaf', 0.6201640367507935),\n",
       " (u'asteraceae', 0.6088857054710388),\n",
       " (u'camellia', 0.6083235740661621),\n",
       " (u'religiosa', 0.5900222659111023),\n",
       " (u'scented', 0.5861136317253113),\n",
       " (u'strelitzia', 0.5839868783950806),\n",
       " (u'lilac', 0.5763319134712219),\n",
       " (u'fruit', 0.5727922916412354),\n",
       " (u'poppy', 0.5706894993782043)]"
      ]
     },
     "execution_count": 7,
     "metadata": {},
     "output_type": "execute_result"
    }
   ],
   "source": [
    "model.most_similar('flower')"
   ]
  },
  {
   "cell_type": "code",
   "execution_count": null,
   "metadata": {
    "collapsed": true
   },
   "outputs": [],
   "source": []
  }
 ],
 "metadata": {
  "kernelspec": {
   "display_name": "Python 2",
   "language": "python",
   "name": "python2"
  },
  "language_info": {
   "codemirror_mode": {
    "name": "ipython",
    "version": 2
   },
   "file_extension": ".py",
   "mimetype": "text/x-python",
   "name": "python",
   "nbconvert_exporter": "python",
   "pygments_lexer": "ipython2",
   "version": "2.7.9"
  }
 },
 "nbformat": 4,
 "nbformat_minor": 0
}
