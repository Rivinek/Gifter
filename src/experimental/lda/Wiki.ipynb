{
 "cells": [
  {
   "cell_type": "code",
   "execution_count": 1,
   "metadata": {
    "collapsed": false
   },
   "outputs": [
    {
     "name": "stdout",
     "output_type": "stream",
     "text": [
      "MmCorpus(3796181 documents, 100000 features, 589713461 non-zero entries)\n"
     ]
    }
   ],
   "source": [
    "import gensim\n",
    "from gensim import corpora, models\n",
    "# load id->word mapping (the dictionary), one of the results of step 2 above\n",
    "id2word = gensim.corpora.Dictionary.load_from_text('./wiki_en_wordids.txt')\n",
    "# load corpus iterator\n",
    "mm = gensim.corpora.MmCorpus('./wiki_en_tfidf.mm')\n",
    "print(mm)"
   ]
  },
  {
   "cell_type": "code",
   "execution_count": 3,
   "metadata": {
    "collapsed": false
   },
   "outputs": [],
   "source": [
    "lda = gensim.models.ldamulticore.LdaMulticore(\n",
    "    corpus=mm,\n",
    "    num_topics=100,\n",
    "    id2word=id2word,\n",
    "    eval_every=1,\n",
    "    chunksize=10000,\n",
    "    passes=1,\n",
    "    workers=1\n",
    ")"
   ]
  },
  {
   "cell_type": "raw",
   "metadata": {
    "collapsed": true
   },
   "source": [
    "lda.save('lda.model')"
   ]
  },
  {
   "cell_type": "code",
   "execution_count": 2,
   "metadata": {
    "collapsed": false
   },
   "outputs": [
    {
     "name": "stdout",
     "output_type": "stream",
     "text": [
      "Topic number 0 consists of words : 0.020*repurchase + 0.014*keach + 0.012*arcturus + 0.011*sochaux + 0.011*moji + 0.010*rook + 0.006*mundell + 0.005*firewire + 0.005*perigee + 0.005*superpowers\n",
      "Topic number 1 consists of words : 0.018*dishonored + 0.015*reconstructed + 0.012*picchu + 0.012*bondegezou + 0.012*konrad + 0.011*plasmid + 0.010*fantasies + 0.010*frankston + 0.008*cleef + 0.007*ackroyd\n",
      "Topic number 2 consists of words : 0.037*valign + 0.033*candice + 0.030*smo + 0.029*maharana + 0.019*spp + 0.017*dhanush + 0.016*paused + 0.015*fau + 0.014*candidacy + 0.011*exudes\n",
      "Topic number 3 consists of words : 0.023*vayu + 0.015*reciprocates + 0.008*clinical + 0.006*legalise + 0.005*lemmon + 0.005*στc + 0.004*newscasts + 0.004*betrayals + 0.004*chlamydia + 0.004*product\n",
      "Topic number 4 consists of words : 0.021*asthma + 0.009*banshee + 0.008*willoakland + 0.008*helge + 0.008*mildred + 0.007*frederiksberg + 0.007*boarding + 0.006*zhukovsky + 0.005*cysts + 0.005*ehsaan\n",
      "Topic number 5 consists of words : 0.010*darragh + 0.009*dearly + 0.009*chariton + 0.009*flier + 0.008*zaria + 0.007*awwal + 0.007*ilan + 0.007*henner + 0.005*samsung + 0.005*iss\n",
      "Topic number 6 consists of words : 0.017*iranica + 0.014*modulating + 0.014*euronext + 0.013*rehnquist + 0.013*binds + 0.013*nutty + 0.012*bhim + 0.011*sportsmanship + 0.010*lemonheads + 0.009*reviled\n",
      "Topic number 7 consists of words : 0.127*faia + 0.028*towel + 0.020*succubus + 0.018*ninja + 0.015*tricked + 0.014*confection + 0.013*zapatista + 0.013*aberrations + 0.012*nora + 0.012*fishbone\n",
      "Topic number 8 consists of words : 0.022*werden + 0.015*wisteria + 0.009*linda + 0.009*listy + 0.008*atlases + 0.008*bottled + 0.007*middle + 0.007*vassily + 0.006*nestle + 0.006*allegory\n",
      "Topic number 9 consists of words : 0.034*regression + 0.025*navarrete + 0.016*gilani + 0.009*routers + 0.009*hashmi + 0.009*kcie + 0.008*mallon + 0.008*ingerson + 0.007*crossbows + 0.007*bangers\n",
      "Topic number 10 consists of words : 0.025*natak + 0.023*caspian + 0.017*boats + 0.017*mayorship + 0.010*motile + 0.010*arap + 0.008*pacifism + 0.008*vorbis + 0.007*wine + 0.006*scottsboro\n",
      "Topic number 11 consists of words : 0.022*alleged + 0.012*esperanto + 0.012*insight + 0.011*zh + 0.010*charis + 0.009*bureaucrats + 0.007*unavoidably + 0.007*lugosi + 0.007*nationalization + 0.006*kwazulu\n",
      "Topic number 12 consists of words : 0.006*purview + 0.006*shetty + 0.005*amply + 0.005*utu + 0.005*pleaded + 0.004*kilt + 0.004*leonard + 0.004*climbed + 0.003*irwin + 0.003*bunter\n",
      "Topic number 13 consists of words : 0.051*enthusiast + 0.026*kbdank + 0.022*hoek + 0.020*stains + 0.012*christy + 0.012*garneau + 0.012*resupply + 0.009*narodna + 0.007*columnists + 0.007*atty\n",
      "Topic number 14 consists of words : 0.102*jaded + 0.051*omri + 0.039*swimsuits + 0.027*uru + 0.026*lod + 0.023*brianza + 0.022*spp + 0.021*discord + 0.021*sisi + 0.021*natures\n",
      "Topic number 15 consists of words : 0.029*silting + 0.022*canção + 0.020*brooking + 0.018*adl + 0.016*tsa + 0.015*olimpico + 0.013*plas + 0.013*merited + 0.012*daytona + 0.011*nagari\n",
      "Topic number 16 consists of words : 0.013*millward + 0.013*meandering + 0.011*alexandria + 0.010*groats + 0.010*butchered + 0.010*wheatley + 0.009*foucault + 0.009*akrotiri + 0.008*ghostface + 0.008*lingo\n",
      "Topic number 17 consists of words : 0.033*workspaces + 0.025*ucs + 0.023*liberally + 0.018*géza + 0.018*puppeteer + 0.017*tsukamoto + 0.015*soundsystem + 0.014*agama + 0.014*excitation + 0.013*towered\n",
      "Topic number 18 consists of words : 0.047*piercy + 0.042*forgo + 0.026*wolterding + 0.023*malfunction + 0.015*levites + 0.015*apelor + 0.013*ludendorff + 0.011*barts + 0.011*riis + 0.010*lieder\n",
      "Topic number 19 consists of words : 0.015*polyps + 0.015*glorified + 0.013*ban + 0.010*reconstructed + 0.009*allstar + 0.009*reminiscing + 0.009*rolph + 0.008*insular + 0.008*milka + 0.006*mulroney\n",
      "Topic number 20 consists of words : 0.027*indelible + 0.023*wicke + 0.021*wheeling + 0.020*offering + 0.019*consistory + 0.013*charleville + 0.013*milburn + 0.012*stallworth + 0.011*downsview + 0.010*discretion\n",
      "Topic number 21 consists of words : 0.034*sidekick + 0.029*roshan + 0.029*pantanal + 0.028*photographers + 0.017*cleanliness + 0.016*okehampton + 0.016*atn + 0.015*sambafoot + 0.013*perpetrating + 0.012*ubon\n",
      "Topic number 22 consists of words : 0.041*elinor + 0.024*remake + 0.015*nematodes + 0.014*aw + 0.014*sedgley + 0.014*relinquish + 0.013*intaglio + 0.012*spc + 0.012*mailboxes + 0.011*finnegan\n",
      "Topic number 23 consists of words : 0.013*sevan + 0.003*bracks + 0.003*listed + 0.003*duel + 0.003*axel + 0.003*holbrook + 0.003*grovemusic + 0.002*ryuichi + 0.002*sociopath + 0.002*resonances\n",
      "Topic number 24 consists of words : 0.024*vasilyevich + 0.013*rls + 0.013*vim + 0.011*attribution + 0.009*hasidim + 0.008*aspinwall + 0.008*bittner + 0.008*inheritance + 0.007*excavate + 0.007*ripened\n",
      "Topic number 25 consists of words : 0.002*genetically + 0.002*leat + 0.002*unload + 0.002*accretion + 0.001*gou + 0.001*irwin + 0.001*cupar + 0.001*zarzuela + 0.001*père + 0.001*derulo\n",
      "Topic number 26 consists of words : 0.021*dhol + 0.018*oktay + 0.013*repos + 0.012*niobium + 0.012*rotation + 0.010*mouse + 0.010*lantz + 0.008*macinnis + 0.007*wani + 0.007*chancellor\n",
      "Topic number 27 consists of words : 0.061*burg + 0.041*rhetorically + 0.030*zakharov + 0.023*worthy + 0.018*hayato + 0.015*ailech + 0.014*normalized + 0.014*dipped + 0.011*russo + 0.009*playbill\n",
      "Topic number 28 consists of words : 0.112*chambers + 0.063*alge + 0.060*tero + 0.039*retires + 0.038*cysts + 0.025*cosmology + 0.020*messager + 0.018*naba + 0.018*breccia + 0.018*blinding\n",
      "Topic number 29 consists of words : 0.024*ananta + 0.019*vasilyevich + 0.014*philanthropic + 0.013*eibar + 0.011*thats + 0.011*semantic + 0.011*bernard + 0.011*meinhard + 0.010*shalit + 0.010*am\n",
      "Topic number 30 consists of words : 0.186*lend + 0.084*unprocessed + 0.033*lewiston + 0.033*baboon + 0.028*tebe + 0.023*levallois + 0.023*depository + 0.018*usaaf + 0.017*königlich + 0.016*varuna\n",
      "Topic number 31 consists of words : 0.035*pedagogic + 0.035*engelhardt + 0.033*markets + 0.028*kvng + 0.023*reconfigure + 0.022*modesty + 0.021*toowoomba + 0.016*wank + 0.010*scapegoat + 0.009*noncommutative\n",
      "Topic number 32 consists of words : 0.059*isak + 0.027*ponders + 0.025*peasantry + 0.021*burroughs + 0.013*sto + 0.012*follow + 0.012*horticulture + 0.011*allround + 0.010*provincias + 0.010*hassler\n",
      "Topic number 33 consists of words : 0.044*yacht + 0.020*coredesat + 0.019*canning + 0.016*volvo + 0.015*aspirated + 0.014*underwriters + 0.013*cosplay + 0.013*kamer + 0.012*thanking + 0.012*magni\n",
      "Topic number 34 consists of words : 0.032*ppi + 0.032*hydrolase + 0.016*entered + 0.016*darbar + 0.016*cyclopedia + 0.014*walkman + 0.012*hod + 0.011*bessarabia + 0.011*xtra + 0.010*unhappy\n",
      "Topic number 35 consists of words : 0.007*northam + 0.006*shem + 0.006*townshend + 0.005*humblot + 0.005*prospected + 0.005*immer + 0.005*ostrobothnia + 0.004*cylinders + 0.004*insecurity + 0.004*abakharev\n",
      "Topic number 36 consists of words : 0.041*bashkortostan + 0.031*sanat + 0.024*notably + 0.022*polarizing + 0.022*zemun + 0.012*evidential + 0.010*zeballos + 0.010*chugoku + 0.007*clinicians + 0.007*tallis\n",
      "Topic number 37 consists of words : 0.013*changzhou + 0.008*polson + 0.008*caryl + 0.008*southwestward + 0.006*faze + 0.006*savas + 0.005*underhook + 0.005*carnildo + 0.005*holter + 0.005*rhumba\n",
      "Topic number 38 consists of words : 0.025*portrait + 0.019*aengus + 0.018*randomization + 0.017*deliveries + 0.012*livid + 0.011*voorhees + 0.009*unethical + 0.009*texaco + 0.008*augusti + 0.008*albertini\n",
      "Topic number 39 consists of words : 0.037*sto + 0.029*peasantry + 0.020*petar + 0.017*extramarital + 0.016*bothwell + 0.015*woodwinds + 0.015*joëlle + 0.014*poached + 0.014*bock + 0.011*gaziantepspor\n",
      "Topic number 40 consists of words : 0.054*toko + 0.022*bayview + 0.021*expansion + 0.021*pbx + 0.020*hagan + 0.016*contested + 0.015*bpmullins + 0.013*hankey + 0.012*preventive + 0.010*defamed\n",
      "Topic number 41 consists of words : 0.026*stationmaster + 0.023*prophesied + 0.017*reviewed + 0.016*pickin + 0.014*gynecologist + 0.012*catfishes + 0.011*propulsion + 0.011*particularities + 0.010*billiard + 0.010*harmlessly\n",
      "Topic number 42 consists of words : 0.011*maximal + 0.011*yoshimi + 0.008*droplets + 0.007*honra + 0.007*haas + 0.006*sheikhs + 0.006*fee + 0.005*teaching + 0.005*saddest + 0.005*szabo\n",
      "Topic number 43 consists of words : 0.016*kui + 0.010*iupac + 0.010*satirists + 0.009*rhodium + 0.008*dewan + 0.007*realise + 0.007*bellas + 0.007*fewer + 0.007*ballooned + 0.006*mýa\n",
      "Topic number 44 consists of words : 0.015*deliveries + 0.011*lhasa + 0.008*news + 0.008*baumann + 0.008*portrait + 0.007*holiness + 0.007*tid + 0.006*phalaropes + 0.006*damn + 0.006*ahmedabad\n",
      "Topic number 45 consists of words : 0.018*toshiba + 0.017*aga + 0.011*sevan + 0.009*ferrand + 0.009*happier + 0.008*leaguer + 0.007*relief + 0.006*pak + 0.006*studien + 0.006*reaves\n",
      "Topic number 46 consists of words : 0.032*hakodate + 0.021*kbc + 0.019*purveyors + 0.013*contrasted + 0.012*perea + 0.012*hooley + 0.012*leconte + 0.010*epigram + 0.009*defies + 0.009*pölten\n",
      "Topic number 47 consists of words : 0.014*fretless + 0.011*emporia + 0.011*holbrook + 0.009*napolitano + 0.009*ossifrage + 0.008*mild + 0.006*forecourt + 0.006*counterweight + 0.005*upperparts + 0.005*houses\n",
      "Topic number 48 consists of words : 0.015*curtis + 0.010*wigley + 0.010*reconstructed + 0.009*insular + 0.009*rolph + 0.009*groen + 0.007*bodnotbod + 0.007*siddhanta + 0.007*duško + 0.007*menezes\n",
      "Topic number 49 consists of words : 0.048*tumblr + 0.045*mod + 0.043*zenit + 0.027*megalopolis + 0.022*anchorman + 0.012*copyrighted + 0.009*origins + 0.009*beatus + 0.009*michi + 0.008*keach\n",
      "Topic number 50 consists of words : 0.022*uffizi + 0.019*domenica + 0.018*laverne + 0.015*meitetsu + 0.015*minder + 0.013*denbighshire + 0.011*ballplayers + 0.010*schooler + 0.009*edina + 0.009*crewmen\n",
      "Topic number 51 consists of words : 0.042*coupled + 0.037*slacks + 0.036*pfizer + 0.029*ferraz + 0.027*seleucus + 0.027*malmesbury + 0.016*atlant + 0.014*ariel + 0.014*sawn + 0.014*suffix\n",
      "Topic number 52 consists of words : 0.035*carmela + 0.022*évreux + 0.019*druck + 0.015*exposition + 0.012*banshee + 0.010*histoire + 0.008*adele + 0.008*chislehurst + 0.007*mccauley + 0.007*baleen\n",
      "Topic number 53 consists of words : 0.032*damn + 0.010*outscoring + 0.009*doug + 0.007*ahmedabad + 0.007*stepford + 0.006*estimate + 0.005*kuni + 0.005*saundersw + 0.004*sandakan + 0.003*upm\n",
      "Topic number 54 consists of words : 0.008*thema + 0.006*arakawa + 0.006*kåre + 0.005*unload + 0.004*limburg + 0.004*leat + 0.004*janette + 0.004*sociopath + 0.004*creation + 0.004*gigante\n",
      "Topic number 55 consists of words : 0.035*squarepants + 0.031*anaesthetics + 0.017*dearing + 0.016*weisz + 0.015*rylands + 0.014*ticketed + 0.013*fannin + 0.013*gng + 0.012*bourges + 0.011*alegre\n",
      "Topic number 56 consists of words : 0.152*neutralised + 0.129*arxiloxos + 0.041*ramu + 0.037*caucasus + 0.036*nationals + 0.027*hardt + 0.021*beats + 0.020*yūki + 0.016*haring + 0.015*discusses\n",
      "Topic number 57 consists of words : 0.016*expansion + 0.012*raul + 0.010*pbx + 0.008*contested + 0.007*smu + 0.007*gold + 0.006*liepājas + 0.006*mischa + 0.005*shrunken + 0.005*feliciano\n",
      "Topic number 58 consists of words : 0.030*matisse + 0.013*illnesses + 0.009*hassles + 0.008*upload + 0.008*silks + 0.008*levasseur + 0.008*kimon + 0.008*christopherson + 0.007*unpunished + 0.007*watkin\n",
      "Topic number 59 consists of words : 0.017*dunlop + 0.011*matte + 0.009*nihilistic + 0.009*christianson + 0.008*blacklist + 0.007*acqua + 0.007*ny + 0.006*prenatal + 0.006*terra + 0.005*inches\n",
      "Topic number 60 consists of words : 0.049*gold + 0.021*conservancy + 0.016*ranganathan + 0.012*darley + 0.010*shoemakers + 0.009*wilder + 0.009*artistas + 0.008*altercation + 0.008*nears + 0.007*leela\n",
      "Topic number 61 consists of words : 0.040*revoir + 0.037*maas + 0.034*elbing + 0.022*peltier + 0.021*amas + 0.017*secretes + 0.010*istituto + 0.010*tigress + 0.009*nouri + 0.008*utara\n",
      "Topic number 62 consists of words : 0.011*poorest + 0.009*scorn + 0.008*petro + 0.008*prepped + 0.008*brands + 0.007*diouf + 0.007*arthritis + 0.007*mbz + 0.006*möbius + 0.006*unemployment\n",
      "Topic number 63 consists of words : 0.009*altervista + 0.008*telluride + 0.008*occupier + 0.007*costantino + 0.007*tiggerjay + 0.006*redeploy + 0.006*mathewson + 0.006*polizei + 0.005*carabidae + 0.005*ryuichi\n",
      "Topic number 64 consists of words : 0.005*animum + 0.004*medals + 0.004*shelby + 0.003*guns + 0.003*guernica + 0.002*alloys + 0.002*vim + 0.002*vilayet + 0.002*entstehung + 0.002*conf\n",
      "Topic number 65 consists of words : 0.050*hansi + 0.035*erosive + 0.023*henke + 0.019*freeview + 0.015*nenets + 0.015*violators + 0.015*foyt + 0.013*seme + 0.012*unsworth + 0.009*tussock\n",
      "Topic number 66 consists of words : 0.017*surfboards + 0.013*associating + 0.010*mcu + 0.009*bodybuilder + 0.009*complications + 0.008*nils + 0.007*chrissie + 0.007*enamels + 0.006*pilgrimages + 0.006*preselection\n",
      "Topic number 67 consists of words : 0.004*puffing + 0.004*rkd + 0.003*dawynn + 0.003*hydrolase + 0.003*somber + 0.002*kilmainham + 0.002*polytopes + 0.002*lapeer + 0.002*illia + 0.002*aiton\n",
      "Topic number 68 consists of words : 0.003*powderfinger + 0.003*nucleon + 0.003*neutrons + 0.003*correggio + 0.003*utu + 0.003*steinhardt + 0.003*geschichte + 0.003*monteleone + 0.002*adamantly + 0.002*svk\n",
      "Topic number 69 consists of words : 0.010*sympathize + 0.008*costar + 0.007*andrewes + 0.007*lacrosse + 0.007*overheat + 0.007*chancellor + 0.006*archdeacons + 0.006*bolsover + 0.005*stipe + 0.005*personas\n",
      "Topic number 70 consists of words : 0.008*shootings + 0.005*mottos + 0.005*cleve + 0.004*encrypting + 0.004*nishi + 0.004*obsolescent + 0.004*falkenberg + 0.004*babri + 0.004*bjarne + 0.004*ucoz\n",
      "Topic number 71 consists of words : 0.016*eep + 0.013*iras + 0.012*seaford + 0.011*dolor + 0.010*hilty + 0.010*guide + 0.008*interrogated + 0.008*thich + 0.007*fighting + 0.007*alpini\n",
      "Topic number 72 consists of words : 0.044*liveried + 0.038*astray + 0.037*aulis + 0.019*tens + 0.019*flower + 0.018*hubris + 0.016*spica + 0.016*colliery + 0.014*tainted + 0.014*hdr\n",
      "Topic number 73 consists of words : 0.052*misdemeanors + 0.025*lif + 0.020*desk + 0.015*andoni + 0.014*colliery + 0.014*crossbar + 0.013*federação + 0.012*refinance + 0.012*seda + 0.011*grantley\n",
      "Topic number 74 consists of words : 0.051*exonym + 0.048*gunpoint + 0.043*towel + 0.021*succubus + 0.017*subversives + 0.011*wallenstein + 0.011*epiphone + 0.010*ready + 0.010*aklan + 0.010*bifurcated\n",
      "Topic number 75 consists of words : 0.032*dnb + 0.027*babylon + 0.023*beas + 0.014*panting + 0.012*cures + 0.012*tomer + 0.010*apelor + 0.010*jessore + 0.010*gravitating + 0.009*embassy\n",
      "Topic number 76 consists of words : 0.031*houses + 0.028*slashing + 0.009*bacharach + 0.007*bum + 0.007*evanston + 0.007*aubigny + 0.006*falkenberg + 0.006*jetstar + 0.006*impossibly + 0.006*underpinnings\n",
      "Topic number 77 consists of words : 0.022*ched + 0.021*parapets + 0.015*bayside + 0.013*privatized + 0.010*counterargument + 0.009*salis + 0.008*alternates + 0.008*cari + 0.008*recess + 0.008*lagrange\n",
      "Topic number 78 consists of words : 0.012*contrarily + 0.009*affiliate + 0.008*mer + 0.008*illia + 0.007*panting + 0.007*solving + 0.006*rhumba + 0.005*phalaropes + 0.005*frías + 0.005*bemoans\n",
      "Topic number 79 consists of words : 0.070*nicer + 0.030*erodes + 0.029*liuzzi + 0.017*ancestress + 0.013*queenstown + 0.013*cdl + 0.013*seds + 0.013*portrait + 0.013*leghorn + 0.012*reclining\n",
      "Topic number 80 consists of words : 0.005*boorish + 0.005*quiroz + 0.004*alvis + 0.004*mallika + 0.003*herts + 0.003*tpa + 0.003*wikitravel + 0.003*lepers + 0.003*kolkata + 0.003*perrone\n",
      "Topic number 81 consists of words : 0.011*zoltán + 0.010*germaine + 0.006*easier + 0.005*janette + 0.005*luff + 0.004*limburg + 0.004*arakawa + 0.004*naman + 0.004*notarized + 0.004*adrenergic\n",
      "Topic number 82 consists of words : 0.031*attainable + 0.019*indulgence + 0.017*eich + 0.017*entrenchment + 0.014*dominici + 0.014*catchment + 0.012*zizhi + 0.012*bushrangers + 0.010*docg + 0.010*pronouncing\n",
      "Topic number 83 consists of words : 0.026*attribution + 0.016*herbicide + 0.014*mq + 0.010*maxim + 0.010*torreón + 0.007*orthopaedics + 0.007*perf + 0.006*widening + 0.006*kra + 0.006*pastimes\n",
      "Topic number 84 consists of words : 0.017*unsuccessful + 0.011*cassidy + 0.009*deasy + 0.008*shankara + 0.006*fearnley + 0.006*rino + 0.005*posted + 0.004*financed + 0.004*dissidence + 0.004*xiaolin\n",
      "Topic number 85 consists of words : 0.023*opec + 0.019*karenjc + 0.019*pyotr + 0.013*dayan + 0.012*cowbell + 0.012*chaparral + 0.011*gulab + 0.010*bown + 0.009*mountjoy + 0.008*trampling\n",
      "Topic number 86 consists of words : 0.043*retargeting + 0.028*shelby + 0.020*wf + 0.017*hoare + 0.015*cholet + 0.011*imperialism + 0.011*genera + 0.011*droplets + 0.011*sunlight + 0.008*futa\n",
      "Topic number 87 consists of words : 0.024*runt + 0.009*taft + 0.008*doubled + 0.004*cobham + 0.004*townsville + 0.004*irregularity + 0.003*conran + 0.003*soult + 0.003*kfa + 0.003*impurities\n",
      "Topic number 88 consists of words : 0.019*saxes + 0.016*seta + 0.015*diouf + 0.012*americus + 0.009*sedentary + 0.008*unfavorably + 0.006*subpopulations + 0.006*disposed + 0.006*volkoff + 0.006*słownik\n",
      "Topic number 89 consists of words : 0.060*recidivism + 0.053*realigned + 0.047*aloha + 0.033*goblet + 0.031*khufu + 0.027*sigler + 0.025*deceitful + 0.023*dower + 0.016*sideband + 0.016*nalgonda\n",
      "Topic number 90 consists of words : 0.029*paired + 0.021*corsham + 0.019*jforget + 0.018*parnell + 0.017*haywood + 0.013*wrestles + 0.011*orsini + 0.011*ostrov + 0.010*gravest + 0.010*alias\n",
      "Topic number 91 consists of words : 0.064*unusual + 0.060*józsef + 0.033*paca + 0.030*bombed + 0.019*setagaya + 0.017*atropos + 0.016*deakin + 0.014*chancellors + 0.010*vhf + 0.010*wikiquote\n",
      "Topic number 92 consists of words : 0.004*wad + 0.003*mallika + 0.002*mayfair + 0.002*georgian + 0.002*kir + 0.002*arakawa + 0.002*gcse + 0.002*exists + 0.002*emitting + 0.002*gotti\n",
      "Topic number 93 consists of words : 0.029*cosmology + 0.019*adjectival + 0.018*hannaford + 0.018*refinance + 0.018*wilkens + 0.015*ecclesiae + 0.014*pyrgos + 0.013*beh + 0.012*tero + 0.011*chambers\n",
      "Topic number 94 consists of words : 0.039*hnlms + 0.030*ukpaolo + 0.030*afca + 0.016*bizzy + 0.015*convention + 0.015*moiré + 0.012*selfishness + 0.012*intravenous + 0.010*solas + 0.010*bakufu\n",
      "Topic number 95 consists of words : 0.025*hu + 0.014*keilana + 0.013*ferran + 0.013*nest + 0.012*webpage + 0.011*eckhart + 0.010*competed + 0.009*roppongi + 0.009*kragujevac + 0.008*pande\n",
      "Topic number 96 consists of words : 0.064*kvng + 0.059*modesty + 0.033*clenched + 0.016*pyrex + 0.012*resolute + 0.011*malika + 0.011*henan + 0.009*hyphenation + 0.008*diplo + 0.008*accomplice\n",
      "Topic number 97 consists of words : 0.016*manganese + 0.015*blockades + 0.008*wba + 0.008*roars + 0.007*sheen + 0.006*hexham + 0.006*aridity + 0.006*renner + 0.006*paired + 0.006*winx\n",
      "Topic number 98 consists of words : 0.024*herz + 0.018*etowah + 0.012*zavala + 0.011*sanada + 0.011*hazegray + 0.010*meyerbeer + 0.010*verte + 0.009*tyco + 0.009*vaidya + 0.008*adhd\n",
      "Topic number 99 consists of words : 0.043*permitted + 0.043*jackrabbit + 0.028*brands + 0.018*gangland + 0.016*poste + 0.011*lawyer + 0.010*comprises + 0.009*wakeboarding + 0.008*bushland + 0.008*award\n"
     ]
    }
   ],
   "source": [
    "model = models.LdaModel.load('lda.model')\n",
    "for i in range(0, model.num_topics):\n",
    "        print \"Topic number \" + str(i) + \" consists of words : \" + model.print_topic(i)"
   ]
  },
  {
   "cell_type": "code",
   "execution_count": 4,
   "metadata": {
    "collapsed": false
   },
   "outputs": [
    {
     "name": "stdout",
     "output_type": "stream",
     "text": [
      "[(78, 0.20100000000000026), (64, 0.12330420313070338), (76, 0.10361772625622066), (80, 0.10235642045765375), (4, 0.10100000000000015), (88, 0.10100000000000015), (92, 0.10100000000000015), (29, 0.074721650155422814)]\n",
      "Top topic is topic number 78 consists of words : 0.012*contrarily + 0.009*affiliate + 0.008*mer + 0.008*illia + 0.007*panting + 0.007*solving + 0.006*rhumba + 0.005*phalaropes + 0.005*frías + 0.005*bemoans\n"
     ]
    },
    {
     "data": {
      "text/plain": [
       "[(78, 0.20100000000000026),\n",
       " (64, 0.12330420313070338),\n",
       " (76, 0.10361772625622066),\n",
       " (80, 0.10235642045765375),\n",
       " (4, 0.10100000000000015),\n",
       " (88, 0.10100000000000015),\n",
       " (92, 0.10100000000000015),\n",
       " (29, 0.074721650155422814)]"
      ]
     },
     "execution_count": 4,
     "metadata": {},
     "output_type": "execute_result"
    }
   ],
   "source": [
    "find_topic(new_doc = \"I love watching films with my family and friends. I will write review of the film we watched yesterday\")"
   ]
  },
  {
   "cell_type": "code",
   "execution_count": 5,
   "metadata": {
    "collapsed": false
   },
   "outputs": [
    {
     "name": "stdout",
     "output_type": "stream",
     "text": [
      "[(36, 0.088698658425371724), (60, 0.073114904532368408), (25, 0.051408667026303569), (68, 0.04898024421035517), (23, 0.047925964874715545), (43, 0.02973031909852937), (63, 0.026671967297671514), (37, 0.023717618612745673), (77, 0.021485223540442192), (67, 0.020685687013000564), (35, 0.020625303828200842), (45, 0.020522556659264463), (70, 0.020274227063189845), (1, 0.018953792621040483), (80, 0.018503038790660394), (24, 0.017141056868675179), (29, 0.015864522681084944), (19, 0.015714013948687704), (0, 0.01536315976272553), (84, 0.015360559510925671), (8, 0.015114538071874425), (92, 0.015088064849579566), (10, 0.015079977865045306), (98, 0.014908507808090927), (69, 0.014463179296024057), (53, 0.013198857230842308), (65, 0.012993485115273377), (4, 0.012706991259149579), (42, 0.010323410107762158)]\n",
      "Top topic is topic number 36 consists of words : 0.041*bashkortostan + 0.031*sanat + 0.024*notably + 0.022*polarizing + 0.022*zemun + 0.012*evidential + 0.010*zeballos + 0.010*chugoku + 0.007*clinicians + 0.007*tallis\n"
     ]
    },
    {
     "data": {
      "text/plain": [
       "[(36, 0.088698658425371724),\n",
       " (60, 0.073114904532368408),\n",
       " (25, 0.051408667026303569),\n",
       " (68, 0.04898024421035517),\n",
       " (23, 0.047925964874715545),\n",
       " (43, 0.02973031909852937),\n",
       " (63, 0.026671967297671514),\n",
       " (37, 0.023717618612745673),\n",
       " (77, 0.021485223540442192),\n",
       " (67, 0.020685687013000564),\n",
       " (35, 0.020625303828200842),\n",
       " (45, 0.020522556659264463),\n",
       " (70, 0.020274227063189845),\n",
       " (1, 0.018953792621040483),\n",
       " (80, 0.018503038790660394),\n",
       " (24, 0.017141056868675179),\n",
       " (29, 0.015864522681084944),\n",
       " (19, 0.015714013948687704),\n",
       " (0, 0.01536315976272553),\n",
       " (84, 0.015360559510925671),\n",
       " (8, 0.015114538071874425),\n",
       " (92, 0.015088064849579566),\n",
       " (10, 0.015079977865045306),\n",
       " (98, 0.014908507808090927),\n",
       " (69, 0.014463179296024057),\n",
       " (53, 0.013198857230842308),\n",
       " (65, 0.012993485115273377),\n",
       " (4, 0.012706991259149579),\n",
       " (42, 0.010323410107762158)]"
      ]
     },
     "execution_count": 5,
     "metadata": {},
     "output_type": "execute_result"
    }
   ],
   "source": [
    "find_topic(dictionary=id2word, lda=model)"
   ]
  },
  {
   "cell_type": "code",
   "execution_count": null,
   "metadata": {
    "collapsed": true
   },
   "outputs": [],
   "source": []
  }
 ],
 "metadata": {
  "kernelspec": {
   "display_name": "Python 2",
   "language": "python",
   "name": "python2"
  },
  "language_info": {
   "codemirror_mode": {
    "name": "ipython",
    "version": 2
   },
   "file_extension": ".py",
   "mimetype": "text/x-python",
   "name": "python",
   "nbconvert_exporter": "python",
   "pygments_lexer": "ipython2",
   "version": "2.7.6"
  }
 },
 "nbformat": 4,
 "nbformat_minor": 0
}
